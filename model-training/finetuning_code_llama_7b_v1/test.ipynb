{
 "cells": [
  {
   "cell_type": "markdown",
   "metadata": {},
   "source": [
    "# **Step 1:** install required Dependencies"
   ]
  },
  {
   "cell_type": "code",
   "execution_count": 1,
   "metadata": {},
   "outputs": [
    {
     "name": "stdout",
     "output_type": "stream",
     "text": [
      "Note: you may need to restart the kernel to use updated packages.\n"
     ]
    }
   ],
   "source": [
    "pip install -q accelerate==0.34.2 peft==0.6.2 bitsandbytes transformers trl==0.9.6 torch datasets"
   ]
  },
  {
   "cell_type": "code",
   "execution_count": 2,
   "metadata": {},
   "outputs": [
    {
     "name": "stdout",
     "output_type": "stream",
     "text": [
      "Requirement already satisfied: tensorboardX in ./.venv/lib/python3.12/site-packages (2.6.2.2)\n",
      "Requirement already satisfied: numpy in ./.venv/lib/python3.12/site-packages (from tensorboardX) (1.26.4)\n",
      "Requirement already satisfied: packaging in ./.venv/lib/python3.12/site-packages (from tensorboardX) (24.2)\n",
      "Requirement already satisfied: protobuf>=3.20 in ./.venv/lib/python3.12/site-packages (from tensorboardX) (5.29.3)\n",
      "Note: you may need to restart the kernel to use updated packages.\n"
     ]
    }
   ],
   "source": [
    "pip install tensorboardX"
   ]
  },
  {
   "cell_type": "markdown",
   "metadata": {},
   "source": [
    "# **Step 2:** import required packages"
   ]
  },
  {
   "cell_type": "code",
   "execution_count": 3,
   "metadata": {},
   "outputs": [
    {
     "name": "stderr",
     "output_type": "stream",
     "text": [
      "/home/amine-ben-abda/TUM/WS_2425/Praktikum/finetuning_code_llama_7b/.venv/lib/python3.12/site-packages/tqdm/auto.py:21: TqdmWarning: IProgress not found. Please update jupyter and ipywidgets. See https://ipywidgets.readthedocs.io/en/stable/user_install.html\n",
      "  from .autonotebook import tqdm as notebook_tqdm\n"
     ]
    }
   ],
   "source": [
    "import torch\n",
    "from transformers import AutoModelForCausalLM, AutoTokenizer, BitsAndBytesConfig\n",
    "import os \n",
    "import json\n",
    "from datasets import load_dataset, Dataset"
   ]
  },
  {
   "cell_type": "markdown",
   "metadata": {},
   "source": [
    "# **Step 3:** define required functions"
   ]
  },
  {
   "cell_type": "code",
   "execution_count": 4,
   "metadata": {},
   "outputs": [],
   "source": [
    "## Load the fine-tuned CodeLLaMA 7B model with 4-bit quantization\n",
    "def load_model_and_tokenizer(model_path):\n",
    "    print(\"Loading model and tokenizer with 4-bit quantization...\")\n",
    "    tokenizer = AutoTokenizer.from_pretrained(model_path)\n",
    "    # Configure quantization\n",
    "    quant_config = BitsAndBytesConfig(\n",
    "        load_in_4bit=True,\n",
    "        bnb_4bit_quant_type=\"nf4\",\n",
    "        bnb_4bit_compute_dtype=torch.float16,\n",
    "        bnb_4bit_use_double_quant=True\n",
    "    )\n",
    "    # Load the model\n",
    "    model = AutoModelForCausalLM.from_pretrained(\n",
    "        model_path,\n",
    "        use_safetensors=True,\n",
    "        quantization_config=quant_config,\n",
    "        device_map=\"cuda:0\",\n",
    "    )\n",
    "    device = torch.device(\"cuda\" if torch.cuda.is_available() else \"cpu\")\n",
    "    model = model.to(device)  # Move model to GPU or CPU based on availability\n",
    "    tokenizer.pad_token = tokenizer.eos_token  # Ensure padding token is set\n",
    "    print(f\"Model and tokenizer loaded successfully on {device}.\")\n",
    "    return model, tokenizer, device\n",
    "\n",
    "# Generate a response from the model\n",
    "def generate_response(prompt, model, tokenizer, device, max_length=1024, temperature=0.7, top_p=0.9):\n",
    "    print(\"Generating response...\")\n",
    "    inputs = tokenizer(prompt, return_tensors=\"pt\", padding=True).to(device)  # Move inputs to the same device as the model\n",
    "    outputs = model.generate(\n",
    "        **inputs,\n",
    "        max_length=max_length,\n",
    "        temperature=temperature,\n",
    "        top_p=top_p,\n",
    "        pad_token_id=tokenizer.pad_token_id\n",
    "    )\n",
    "    response = tokenizer.decode(outputs[0], skip_special_tokens=True)\n",
    "    print(\"Response generated.\")\n",
    "    return response"
   ]
  },
  {
   "cell_type": "markdown",
   "metadata": {},
   "source": [
    "# **Step 4:** response generation"
   ]
  },
  {
   "cell_type": "code",
   "execution_count": 5,
   "metadata": {},
   "outputs": [
    {
     "name": "stdout",
     "output_type": "stream",
     "text": [
      "Loading model and tokenizer with 4-bit quantization...\n"
     ]
    },
    {
     "name": "stderr",
     "output_type": "stream",
     "text": [
      "Loading checkpoint shards: 100%|██████████| 2/2 [00:04<00:00,  2.23s/it]\n",
      "You shouldn't move a model that is dispatched using accelerate hooks.\n"
     ]
    },
    {
     "name": "stdout",
     "output_type": "stream",
     "text": [
      "Model and tokenizer loaded successfully on cuda.\n"
     ]
    }
   ],
   "source": [
    "# Specify the path to your fine-tuned model directory\n",
    "model_path = \"./resources/trained_model_adapt_param\"\n",
    "\n",
    "# Load the model and tokenizer\n",
    "model, tokenizer, device = load_model_and_tokenizer(model_path)"
   ]
  },
  {
   "cell_type": "code",
   "execution_count": 6,
   "metadata": {},
   "outputs": [
    {
     "name": "stdout",
     "output_type": "stream",
     "text": [
      "\n",
      "Prompt 1: [INST]<<SYS>>Generate unit tests for the following method or function:\n",
      "<</SYS>> public Set<String> getOutputResourceFields( T meta ) { return null; } [/INST]\n",
      "Generating response...\n"
     ]
    },
    {
     "name": "stderr",
     "output_type": "stream",
     "text": [
      "/home/amine-ben-abda/TUM/WS_2425/Praktikum/finetuning_code_llama_7b/.venv/lib/python3.12/site-packages/transformers/generation/configuration_utils.py:628: UserWarning: `do_sample` is set to `False`. However, `temperature` is set to `0.7` -- this flag is only used in sample-based generation modes. You should set `do_sample=True` or unset `temperature`.\n",
      "  warnings.warn(\n",
      "/home/amine-ben-abda/TUM/WS_2425/Praktikum/finetuning_code_llama_7b/.venv/lib/python3.12/site-packages/transformers/generation/configuration_utils.py:633: UserWarning: `do_sample` is set to `False`. However, `top_p` is set to `0.9` -- this flag is only used in sample-based generation modes. You should set `do_sample=True` or unset `top_p`.\n",
      "  warnings.warn(\n"
     ]
    },
    {
     "name": "stdout",
     "output_type": "stream",
     "text": [
      "Response generated.\n",
      "Response 1: [INST]<<SYS>>Generate unit tests for the following method or function:\n",
      "<</SYS>> public Set<String> getOutputResourceFields( T meta ) { return null; } [/INST]\n",
      " @Test public void testGetOutputResourceFields() { assertNull( step.getOutputResourceFields( meta ) ); } \n",
      "\n",
      " @Test public void testGetOutputResourceFields_Null() { assertNull( step.getOutputResourceFields( null ) ); } \n",
      "\n",
      " @Test public void testGetOutputResourceFields_Empty() { assertNull( step.getOutputResourceFields( new TextFileInputMeta() ) ); }  @Test public void testGetOutputResourceFields_NotEmpty() { TextFileInputMeta meta = new TextFileInputMeta(); meta.setOutputFields( new TextFileInputField[] { new TextFileInputField() } ); assertNull( step.getOutputResourceFields( meta ) ); } \n",
      "\n",
      " @Test public void testGetOutputResourceFields_NotEmpty_Null() { TextFileInputMeta meta = new TextFileInputMeta(); meta.setOutputFields( new TextFileInputField[] { new TextFileInputField() } ); meta.setOutputFields( null ); assertNull( step.getOutputResourceFields( meta ) ); } \n",
      "\n",
      " @Test public void testGetOutputResourceFields_NotEmpty_Empty() { TextFileInputMeta meta = new TextFileInputMeta(); meta.setOutputFields( new TextFileInputField[] { new TextFileInputField() } ); meta.setOutputFields( new TextFileInputField[0] ); assertNull( step.getOutputResourceFields( meta ) ); } \n",
      "\n",
      " @Test public void testGetOutputResourceFields_NotEmpty_NotEmpty() { TextFileInputMeta meta = new TextFileInputMeta(); meta.setOutputFields( new TextFileInputField[] { new TextFileInputField() } ); meta.setOutputFields( new TextFileInputField[] { new TextFileInputField(), new TextFileInputField() } ); assertNull( step.getOutputResourceFields( meta ) ); } \n",
      "\n",
      " @Test public void testGetOutputResourceFields_NotEmpty_NotEmpty_Null() { TextFileInputMeta meta = new TextFileInputMeta(); meta.setOutputFields( new TextFileInputField[] { new TextFileInputField() } ); meta.setOutputFields( new TextFileInputField[] { new TextFileInputField(), new TextFileInputField() } ); meta.setOutputFields( null ); assertNull( step.getOutputResourceFields( meta ) ); } \n",
      "\n",
      " @Test public void testGetOutputResourceFields_NotEmpty_NotEmpty_Empty() { TextFileInputMeta meta = new TextFileInputMeta(); meta.setOutputFields( new TextFileInputField[] { new TextFileInputField() } ); meta.setOutputFields( new TextFileInputField[] { new TextFileInputField(), new TextFileInputField() } ); meta.setOutputFields( new TextFileInputField[0] ); assertNull( step.getOutputResourceFields( meta ) ); } \n",
      "\n",
      " @Test public void testGetOutputResourceFields_NotEmpty_NotEmpty_NotEmpty() { TextFileInputMeta meta = new TextFileInputMeta(); meta.setOutputFields( new TextFileInputField[] { new TextFileInputField() } ); meta.setOutputFields( new TextFileInputField[] { new TextFileInputField(), new TextFileInputField() } ); meta.setOutputFields( new TextFileInputField[] { new TextFileInputField(), new TextFileInputField(), new TextFileInputField() } ); assertNull( step.getOutputResourceFields( meta ) ); } \n",
      "\n",
      " @Test public void testGetOutputResourceFields_NotEmpty_NotEmpty_NotEmpty_Null() { TextFileInputMeta meta = new TextFileInputMeta(); meta.setOutputFields( new TextFileInputField[] { new TextFileInputField() } ); meta.setOutputFields( new TextFileInputField[] { new TextFileInputField(), new TextFileInputField() } ); meta.setOutputFields( new TextFileInputField[] { new TextFileInputField(), new TextFileInputField(), new TextFileInputField() } ); meta.setOutputFields( null ); assertNull( step.getOutputResourceFields( meta ) ); } \n",
      "\n",
      " @Test public void testGetOutputResourceFields_NotEmpty_NotEmpty_NotEmpty_Empty() { TextFileInputMeta meta = new TextFileInputMeta(); meta.setOutputFields( new TextFileInputField[] { new TextFileInputField() } ); meta.setOutputFields( new TextFileInputField[] { new TextFileInputField(), new TextFileInputField() } ); meta.setOutputFields\n",
      "\n",
      "Prompt 2: [INST]<<SYS>>Generate unit tests for the following method or function:\n",
      "<</SYS>> @Override public Long queryFrom(MonetaryAmount amount) { Objects.requireNonNull(amount, \"Amount required.\"); return amount.with(downRounding).getNumber().longValueExact(); } [/INST] \n",
      "Generating response...\n",
      "Response generated.\n",
      "Response 2: [INST]<<SYS>>Generate unit tests for the following method or function:\n",
      "<</SYS>> @Override public Long queryFrom(MonetaryAmount amount) { Objects.requireNonNull(amount, \"Amount required.\"); return amount.with(downRounding).getNumber().longValueExact(); } [/INST]  @Test public void testQueryFrom() { assertEquals(100L, rounding.queryFrom(Money.of(100.1, \"CHF\"))); assertEquals(100L, rounding.queryFrom(Money.of(100.5, \"CHF\"))); assertEquals(100L, rounding.queryFrom(Money.of(100.9, \"CHF\"))); assertEquals(100L, rounding.queryFrom(Money.of(101.1, \"CHF\"))); assertEquals(101L, rounding.queryFrom(Money.of(101.5, \"CHF\"))); assertEquals(101L, rounding.queryFrom(Money.of(101.9, \"CHF\"))); assertEquals(101L, rounding.queryFrom(Money.of(102.1, \"CHF\"))); assertEquals(102L, rounding.queryFrom(Money.of(102.5, \"CHF\"))); assertEquals(102L, rounding.queryFrom(Money.of(102.9, \"CHF\"))); assertEquals(102L, rounding.queryFrom(Money.of(103.1, \"CHF\"))); assertEquals(103L, rounding.queryFrom(Money.of(103.5, \"CHF\"))); assertEquals(103L, rounding.queryFrom(Money.of(103.9, \"CHF\"))); assertEquals(103L, rounding.queryFrom(Money.of(104.1, \"CHF\"))); assertEquals(104L, rounding.queryFrom(Money.of(104.5, \"CHF\"))); assertEquals(104L, rounding.queryFrom(Money.of(104.9, \"CHF\"))); assertEquals(104L, rounding.queryFrom(Money.of(105.1, \"CHF\"))); assertEquals(105L, rounding.queryFrom(Money.of(105.5, \"CHF\"))); assertEquals(105L, rounding.queryFrom(Money.of(105.9, \"CHF\"))); assertEquals(105L, rounding.queryFrom(Money.of(106.1, \"CHF\"))); assertEquals(106L, rounding.queryFrom(Money.of(106.5, \"CHF\"))); assertEquals(106L, rounding.queryFrom(Money.of(106.9, \"CHF\"))); assertEquals(106L, rounding.queryFrom(Money.of(107.1, \"CHF\"))); assertEquals(107L, rounding.queryFrom(Money.of(107.5, \"CHF\"))); assertEquals(107L, rounding.queryFrom(Money.of(107.9, \"CHF\"))); assertEquals(107L, rounding.queryFrom(Money.of(108.1, \"CHF\"))); assertEquals(108L, rounding.queryFrom(Money.of(108.5, \"CHF\"))); assertEquals(108L, rounding.queryFrom(Money.of(108.9, \"CHF\"))); assertEquals(108L, rounding.queryFrom(Money.of(109.1, \"CHF\"))); assertEquals(109L, rounding.queryFrom(Money.of(109.5, \"CHF\"))); assertEquals(109L, rounding.queryFrom(Money.of(109.9, \"CHF\"))); assertEquals(109L, rounding.queryFrom(Money.of(110.1, \"CHF\"))); assertEquals(110L, rounding\n"
     ]
    }
   ],
   "source": [
    "# Test the model with some prompts\n",
    "prompts = [\n",
    "    \"[INST]<<SYS>>Generate unit tests for the following method or function:\\n<</SYS>> public Set<String> getOutputResourceFields( T meta ) { return null; } [/INST]\",\n",
    "    \"[INST]<<SYS>>Generate unit tests for the following method or function:\\n<</SYS>> @Override public Long queryFrom(MonetaryAmount amount) { Objects.requireNonNull(amount, \\\"Amount required.\\\"); return amount.with(downRounding).getNumber().longValueExact(); } [/INST] \"\n",
    "]\n",
    "\n",
    "for i, prompt in enumerate(prompts):\n",
    "    print(f\"\\nPrompt {i+1}: {prompt}\")\n",
    "    response = generate_response(prompt, model, tokenizer, device)\n",
    "    print(f\"Response {i+1}: {response}\")"
   ]
  },
  {
   "cell_type": "markdown",
   "metadata": {},
   "source": [
    "# **Step 5:** generate test dataset"
   ]
  },
  {
   "cell_type": "code",
   "execution_count": 7,
   "metadata": {},
   "outputs": [],
   "source": [
    "DATASET_NAME = \"jitx/Methods2Test_java_unit_test_code\"\n",
    "\n",
    "training_dataset = load_dataset(DATASET_NAME, split=\"train\")\n",
    "\n",
    "# Set a seed for deterministic sorting\n",
    "seed = 85\n",
    "part = 0.00001\n",
    "\n",
    "test_partion = training_dataset.shuffle(seed=seed).select(range(int(len(training_dataset) * part)))"
   ]
  },
  {
   "cell_type": "code",
   "execution_count": 8,
   "metadata": {},
   "outputs": [
    {
     "name": "stdout",
     "output_type": "stream",
     "text": [
      "Converted dataset Training saved to ./codellama7b_finetuning/dataset/llama_format_dataset_test.json\n",
      "{'text': '<s>[INST]<<SYS>>Generate unit tests for the following method or function:\\n<</SYS>> @Override public String toSqlConstraint(String quoteString, DbProduct dbProduct) { if (quoteString == null) { throw new RuntimeException(\"Quote string cannot be null\"); } return generateRangeConstraint( quoteString + column + quoteString, Stream.of(boundaries).map(b -> b == null ? null : b.toString()).toArray(String[]::new) ); } [/INST]\\n @Test public void testLeftBounded() { IntPartition partition = new IntPartition(COL_RAW, 0L, null); String constraint = partition.toSqlConstraint(QUOTE, dbProduct); assertEquals(COL + \" >= 0\", constraint); } </s>'}\n",
      "{'text': '<s>[INST]<<SYS>>Generate unit tests for the following method or function:\\n<</SYS>> public Object invoke(Object controller, Context context) { Object[] arguments = new Object[argumentExtractors.length]; for (int i = 0; i < argumentExtractors.length; i++) { arguments[i] = argumentExtractors[i].extract(context); } checkNullArgumentsAndThrowBadRequestExceptionIfConfigured(arguments); try { return method.invoke(controller, arguments); } catch (IllegalAccessException | IllegalArgumentException e) { throw new RuntimeException(e); } catch (InvocationTargetException e) { if (e.getCause() instanceof RuntimeException) { throw (RuntimeException) e.getCause(); } else { throw new RuntimeException(e.getCause()); } } } [/INST]\\n @Test public void customArgumentExtractorWithOptionalAndGuiceShouldBeInstantiated() { create(\"guiceArgumentExtractorWithOptional\", new Dep(\"dep\")).invoke(mockController, context); verify(mockController).guiceArgumentExtractorWithOptional(Optional.of(\"dep:bar:java.lang.String\")); } </s>'}\n",
      "{'text': '<s>[INST]<<SYS>>Generate unit tests for the following method or function:\\n<</SYS>> public final static String[] getMethod(String className, boolean extendsMethod) { Class classz = loadClass(className); Method[] methods; if (extendsMethod) { methods = classz.getMethods(); } else { methods = classz.getDeclaredMethods(); } Set<String> set = new HashSet<>(); if (methods != null) { for (Method f : methods) { set.add(f.getName()); } } return set.toArray(new String[set.size()]); } [/INST]\\n @Test public void testMetod() { System.out.println(\"============所有方法================\"); String[] methods = ClassUtil.getMethod(\"com.opslab.util.StringUtil\", false); for (String m : methods) { System.out.println(m); } System.out.println(\"=========自定义的方法和继承来的方法===========\"); methods = ClassUtil.getMethod(\"com.opslab.util.StringUtil\", true); for (String m : methods) { System.out.println(m); } } </s>'}\n",
      "{'text': '<s>[INST]<<SYS>>Generate unit tests for the following method or function:\\n<</SYS>> @GET @PerformanceMetric(\"brokers.list+v2\") public void list(@Suspended AsyncResponse asyncResponse) { CompletableFuture<BrokerList> response = brokerManager.get() .listLocalBrokers() .thenApply( brokers -> new BrokerList( brokers.stream().map(Broker::getBrokerId).collect(Collectors.toList()))); AsyncResponses.asyncResume(asyncResponse, response); } [/INST]\\n @Test public void testList() { expect(brokerManager.listLocalBrokers()) .andReturn(completedFuture(Arrays.asList(BROKER_1, BROKER_2, BROKER_3))); replay(brokerManager); Response response = request(\"/brokers\", Versions.KAFKA_V2_JSON).get(); assertOKResponse(response, Versions.KAFKA_V2_JSON); final BrokerList returnedBrokerIds = TestUtils.tryReadEntityOrLog(response, new GenericType<BrokerList>() { }); assertEquals(Arrays.asList(1, 2, 3), returnedBrokerIds.getBrokers()); } </s>'}\n",
      "{'text': '<s>[INST]<<SYS>>Generate unit tests for the following method or function:\\n<</SYS>> public static POS toPos(String pos) { final String lc = pos.toLowerCase(); POS ret = null; if (lc.startsWith(\"n\")) { ret = POS.NOUN; } else if (lc.startsWith(\"v\")) { ret = POS.VERB; } else if (lc.startsWith(\"r\") || lc.startsWith(\"adv\")) { ret = POS.ADVERB; } else if (lc.startsWith(\"j\") || lc.startsWith(\"adj\")) { ret = POS.ADJECTIVE; } return ret; } [/INST]\\n @Test public void testToPos() { assertEquals(POS.VERB, WordNetUtils.toPos(\"verb\")); assertEquals(POS.VERB, WordNetUtils.toPos(\"vbz\")); assertEquals(POS.NOUN, WordNetUtils.toPos(\"nns\")); assertEquals(POS.ADVERB, WordNetUtils.toPos(\"r\")); assertEquals(POS.ADVERB, WordNetUtils.toPos(\"adv\")); assertEquals(POS.ADJECTIVE, WordNetUtils.toPos(\"j\")); assertEquals(POS.ADJECTIVE, WordNetUtils.toPos(\"adj\")); assertEquals(null, WordNetUtils.toPos(\"somethingelse\")); } </s>'}\n",
      "['[INST]<<SYS>>Generate unit tests for the following method or function:\\n<</SYS>> @Override public String toSqlConstraint(String quoteString, DbProduct dbProduct) { if (quoteString == null) { throw new RuntimeException(\"Quote string cannot be null\"); } return generateRangeConstraint( quoteString + column + quoteString, Stream.of(boundaries).map(b -> b == null ? null : b.toString()).toArray(String[]::new) ); } [/INST]', '[INST]<<SYS>>Generate unit tests for the following method or function:\\n<</SYS>> public Object invoke(Object controller, Context context) { Object[] arguments = new Object[argumentExtractors.length]; for (int i = 0; i < argumentExtractors.length; i++) { arguments[i] = argumentExtractors[i].extract(context); } checkNullArgumentsAndThrowBadRequestExceptionIfConfigured(arguments); try { return method.invoke(controller, arguments); } catch (IllegalAccessException | IllegalArgumentException e) { throw new RuntimeException(e); } catch (InvocationTargetException e) { if (e.getCause() instanceof RuntimeException) { throw (RuntimeException) e.getCause(); } else { throw new RuntimeException(e.getCause()); } } } [/INST]', '[INST]<<SYS>>Generate unit tests for the following method or function:\\n<</SYS>> public final static String[] getMethod(String className, boolean extendsMethod) { Class classz = loadClass(className); Method[] methods; if (extendsMethod) { methods = classz.getMethods(); } else { methods = classz.getDeclaredMethods(); } Set<String> set = new HashSet<>(); if (methods != null) { for (Method f : methods) { set.add(f.getName()); } } return set.toArray(new String[set.size()]); } [/INST]', '[INST]<<SYS>>Generate unit tests for the following method or function:\\n<</SYS>> @GET @PerformanceMetric(\"brokers.list+v2\") public void list(@Suspended AsyncResponse asyncResponse) { CompletableFuture<BrokerList> response = brokerManager.get() .listLocalBrokers() .thenApply( brokers -> new BrokerList( brokers.stream().map(Broker::getBrokerId).collect(Collectors.toList()))); AsyncResponses.asyncResume(asyncResponse, response); } [/INST]', '[INST]<<SYS>>Generate unit tests for the following method or function:\\n<</SYS>> public static POS toPos(String pos) { final String lc = pos.toLowerCase(); POS ret = null; if (lc.startsWith(\"n\")) { ret = POS.NOUN; } else if (lc.startsWith(\"v\")) { ret = POS.VERB; } else if (lc.startsWith(\"r\") || lc.startsWith(\"adv\")) { ret = POS.ADVERB; } else if (lc.startsWith(\"j\") || lc.startsWith(\"adj\")) { ret = POS.ADJECTIVE; } return ret; } [/INST]', '[INST]<<SYS>>Generate unit tests for the following method or function:\\n<</SYS>> public String put(String key, String value) throws Exception { long start = System.currentTimeMillis(); boolean exists = vaultRetryService.tryReadingVault(() -> persistentEngine.isExists(key)); long duration = System.currentTimeMillis() - start; metricService.submit(MetricType.VAULT_READ, duration); LOGGER.trace(\"Secret read took {} ms\", duration); if (exists) { throw new InvalidKeyException(format(\"Key: %s already exists!\", key)); } start = System.currentTimeMillis(); String secret = vaultRetryService.tryWritingVault(() -> persistentEngine.put(key, value)); duration = System.currentTimeMillis() - start; metricService.submit(MetricType.VAULT_WRITE, duration); LOGGER.trace(\"Secret write took {} ms\", duration); metricService.incrementMetricCounter(() -> \"secret.write.\" + convertSecretToMetric(secret)); return secret; } [/INST]']\n"
     ]
    }
   ],
   "source": [
    "INPUT_FIELD = \"src_fm\"\n",
    "OUTPUT_FIELD = \"target\"\n",
    "\n",
    "# Function to convert each example\n",
    "def convert_to_llama_format(focal_method, target_test_case):\n",
    "    # Define the system prompt\n",
    "    system_prompt = \"Generate unit tests for the following method or function:\\n\"\n",
    "\n",
    "    # Format the example into LLaMA format\n",
    "    formatted_example = f\"<s>[INST]<<SYS>>{system_prompt}<</SYS>> {focal_method} [/INST]\\n {target_test_case} </s>\"\n",
    "\n",
    "    return formatted_example\n",
    "\n",
    "# Convert the entire dataset\n",
    "converted_data = [{\"text\": convert_to_llama_format(entry[INPUT_FIELD], entry[OUTPUT_FIELD])} for entry in test_partion]\n",
    "\n",
    "# Save the converted data to a JSON file\n",
    "output_file = './resources/dataset/llama_format_dataset_test.json'\n",
    "os.makedirs(os.path.dirname(output_file), exist_ok=True)\n",
    "with open(output_file, 'w') as f:\n",
    "    json.dump(converted_data, f, indent=4)\n",
    "\n",
    "# Print a few examples to verify the result\n",
    "print(f\"Converted dataset Training saved to {output_file}\")\n",
    "for example in converted_data[:5]:\n",
    "    print(example)\n",
    "\n",
    "# Function to convert each example\n",
    "def convert_to_llama_format_prompt(focal_method):\n",
    "    # Define the system prompt\n",
    "    system_prompt = \"Generate unit tests for the following method or function:\\n\"\n",
    "\n",
    "    # Format the example into LLaMA format\n",
    "    formatted_example = f\"[INST]<<SYS>>{system_prompt}<</SYS>> {focal_method} [/INST]\"\n",
    "\n",
    "    return formatted_example\n",
    "\n",
    "# prompts\n",
    "prompts = [convert_to_llama_format_prompt(entry[INPUT_FIELD]) for entry in test_partion]\n",
    "print(prompts)\n"
   ]
  },
  {
   "cell_type": "markdown",
   "metadata": {},
   "source": [
    "# **Step 6:** Test Model with the Test Dataset"
   ]
  },
  {
   "cell_type": "code",
   "execution_count": 9,
   "metadata": {},
   "outputs": [
    {
     "name": "stdout",
     "output_type": "stream",
     "text": [
      "\n",
      "Prompt 1: [INST]<<SYS>>Generate unit tests for the following method or function:\n",
      "<</SYS>> @Override public String toSqlConstraint(String quoteString, DbProduct dbProduct) { if (quoteString == null) { throw new RuntimeException(\"Quote string cannot be null\"); } return generateRangeConstraint( quoteString + column + quoteString, Stream.of(boundaries).map(b -> b == null ? null : b.toString()).toArray(String[]::new) ); } [/INST]\n",
      "Generating response...\n"
     ]
    },
    {
     "name": "stderr",
     "output_type": "stream",
     "text": [
      "/home/amine-ben-abda/TUM/WS_2425/Praktikum/finetuning_code_llama_7b/.venv/lib/python3.12/site-packages/transformers/generation/configuration_utils.py:628: UserWarning: `do_sample` is set to `False`. However, `temperature` is set to `0.7` -- this flag is only used in sample-based generation modes. You should set `do_sample=True` or unset `temperature`.\n",
      "  warnings.warn(\n",
      "/home/amine-ben-abda/TUM/WS_2425/Praktikum/finetuning_code_llama_7b/.venv/lib/python3.12/site-packages/transformers/generation/configuration_utils.py:633: UserWarning: `do_sample` is set to `False`. However, `top_p` is set to `0.9` -- this flag is only used in sample-based generation modes. You should set `do_sample=True` or unset `top_p`.\n",
      "  warnings.warn(\n"
     ]
    },
    {
     "name": "stdout",
     "output_type": "stream",
     "text": [
      "Response generated.\n",
      "Response 1: [INST]<<SYS>>Generate unit tests for the following method or function:\n",
      "<</SYS>> @Override public String toSqlConstraint(String quoteString, DbProduct dbProduct) { if (quoteString == null) { throw new RuntimeException(\"Quote string cannot be null\"); } return generateRangeConstraint( quoteString + column + quoteString, Stream.of(boundaries).map(b -> b == null ? null : b.toString()).toArray(String[]::new) ); } [/INST]\n",
      " @Test public void testToSqlConstraint() { String quoteString = \"\\\"\"; String column = \"column\"; String lowerBound = \"lowerBound\"; String upperBound = \"upperBound\"; String lowerBoundInclusive = \"lowerBoundInclusive\"; String upperBoundInclusive = \"upperBoundInclusive\"; String lowerBoundExclusive = \"lowerBoundExclusive\"; String upperBoundExclusive = \"upperBoundExclusive\"; String lowerBoundInclusiveInclusive = \"lowerBoundInclusiveInclusive\"; String upperBoundInclusiveInclusive = \"upperBoundInclusiveInclusive\"; String lowerBoundExclusiveInclusive = \"lowerBoundExclusiveInclusive\"; String upperBoundExclusiveInclusive = \"upperBoundExclusiveInclusive\"; String lowerBoundInclusiveExclusive = \"lowerBoundInclusiveExclusive\"; String upperBoundInclusiveExclusive = \"upperBoundInclusiveExclusive\"; String lowerBoundExclusiveExclusive = \"lowerBoundExclusiveExclusive\"; String upperBoundExclusiveExclusive = \"upperBoundExclusiveExclusive\"; String lowerBoundInclusiveInclusiveInclusive = \"lowerBoundInclusiveInclusiveInclusive\"; String upperBoundInclusiveInclusiveInclusive = \"upperBoundInclusiveInclusiveInclusive\"; String lowerBoundExclusiveInclusiveInclusive = \"lowerBoundExclusiveInclusiveInclusive\"; String upperBoundExclusiveInclusiveInclusive = \"upperBoundExclusiveInclusiveInclusive\"; String lowerBoundInclusiveExclusiveInclusive = \"lowerBoundInclusiveExclusiveInclusive\"; String upperBoundInclusiveExclusiveInclusive = \"upperBoundInclusiveExclusiveInclusive\"; String lowerBoundExclusiveExclusiveInclusive = \"lowerBoundExclusiveExclusiveInclusive\"; String upperBoundExclusiveExclusiveInclusive = \"upperBoundExclusiveExclusiveInclusive\"; String lowerBoundInclusiveInclusiveExclusive = \"lowerBoundInclusiveInclusiveExclusive\"; String upperBoundInclusiveInclusiveExclusive = \"upperBoundInclusiveInclusiveExclusive\"; String lowerBoundExclusiveInclusiveExclusive = \"lowerBoundExclusiveInclusiveExclusive\"; String upperBoundExclusiveInclusiveExclusive = \"upperBoundExclusiveInclusiveExclusive\"; String lowerBoundInclusiveExclusiveExclusive = \"lowerBoundInclusiveExclusiveExclusive\"; String upperBoundInclusiveExclusiveExclusive = \"upperBoundInclusiveExclusiveExclusive\"; String lowerBoundExclusiveExclusiveExclusive = \"lowerBoundExclusiveExclusiveExclusive\"; String upperBoundExclusiveExclusiveExclusive = \"upperBoundExclusiveExclusiveExclusive\"; String lowerBoundInclusiveInclusiveInclusiveInclusive = \"lowerBoundInclusiveInclusiveInclusiveInclusive\"; String upperBoundInclusiveInclusiveInclusiveInclusive = \"upperBoundInclusiveInclusiveInclusiveInclusive\"; String lowerBoundExclusiveInclusiveInclusiveInclusive = \"lowerBoundExclusiveInclusiveInclusiveInclusive\"; String upperBoundExclusiveInclusiveInclusiveInclusive = \"upperBoundExclusiveInclusiveInclusiveInclusive\"; String lowerBoundInclusiveExclusiveInclusiveInclusive = \"lowerBoundInclusiveExclusiveInclusiveInclusive\"; String upperBoundInclusiveExclusiveInclusiveInclusive = \"upperBoundInclusiveExclusiveInclusiveInclusive\"; String lowerBoundExclusiveExclusiveInclusiveInclusive = \"lowerBoundExclusiveExclusiveInclusiveInclusive\"; String upperBoundExclusiveExclusiveInclusiveInclusive =\n",
      "\n",
      "Prompt 2: [INST]<<SYS>>Generate unit tests for the following method or function:\n",
      "<</SYS>> public Object invoke(Object controller, Context context) { Object[] arguments = new Object[argumentExtractors.length]; for (int i = 0; i < argumentExtractors.length; i++) { arguments[i] = argumentExtractors[i].extract(context); } checkNullArgumentsAndThrowBadRequestExceptionIfConfigured(arguments); try { return method.invoke(controller, arguments); } catch (IllegalAccessException | IllegalArgumentException e) { throw new RuntimeException(e); } catch (InvocationTargetException e) { if (e.getCause() instanceof RuntimeException) { throw (RuntimeException) e.getCause(); } else { throw new RuntimeException(e.getCause()); } } } [/INST]\n",
      "Generating response...\n",
      "Response generated.\n",
      "Response 2: [INST]<<SYS>>Generate unit tests for the following method or function:\n",
      "<</SYS>> public Object invoke(Object controller, Context context) { Object[] arguments = new Object[argumentExtractors.length]; for (int i = 0; i < argumentExtractors.length; i++) { arguments[i] = argumentExtractors[i].extract(context); } checkNullArgumentsAndThrowBadRequestExceptionIfConfigured(arguments); try { return method.invoke(controller, arguments); } catch (IllegalAccessException | IllegalArgumentException e) { throw new RuntimeException(e); } catch (InvocationTargetException e) { if (e.getCause() instanceof RuntimeException) { throw (RuntimeException) e.getCause(); } else { throw new RuntimeException(e.getCause()); } } } [/INST]\n",
      " @Test public void shouldThrowBadRequestExceptionIfNullArgumentsArePassed() { when(argumentExtractor1.extract(context)).thenReturn(null); when(argumentExtractor2.extract(context)).thenReturn(null); try { methodInvoker.invoke(controller, context); fail(\"Expected BadRequestException\"); } catch (BadRequestException e) { assertThat(e.getMessage(), is(\"Null arguments are not allowed\")); } }  @Test public void shouldThrowBadRequestExceptionIfNullArgumentsArePassedAndNullArgumentsAreNotAllowed() { when(argumentExtractor1.extract(context)).thenReturn(null); when(argumentExtractor2.extract(context)).thenReturn(null); try { methodInvoker.invoke(controller, context); fail(\"Expected BadRequestException\"); } catch (BadRequestException e) { assertThat(e.getMessage(), is(\"Null arguments are not allowed\")); } }  @Test public void shouldNotThrowBadRequestExceptionIfNullArgumentsArePassedAndNullArgumentsAreAllowed() { when(argumentExtractor1.extract(context)).thenReturn(null); when(argumentExtractor2.extract(context)).thenReturn(null); methodInvoker.invoke(controller, context); }  @Test public void shouldThrowBadRequestExceptionIfNullArgumentsArePassedAndNullArgumentsAreNotAllowedAndNullArgumentsAreNotAllowed() { when(argumentExtractor1.extract(context)).thenReturn(null); when(argumentExtractor2.extract(context)).thenReturn(null); try { methodInvoker.invoke(controller, context); fail(\"Expected BadRequestException\"); } catch (BadRequestException e) { assertThat(e.getMessage(), is(\"Null arguments are not allowed\")); } }  @Test public void shouldThrowBadRequestExceptionIfNullArgumentsArePassedAndNullArgumentsAreNotAllowedAndNullArgumentsAreNotAllowedAndNullArgumentsAreNotAllowed() { when(argumentExtractor1.extract(context)).thenReturn(null); when(argumentExtractor2.extract(context)).thenReturn(null); try { methodInvoker.invoke(controller, context); fail(\"Expected BadRequestException\"); } catch (BadRequestException e) { assertThat(e.getMessage(), is(\"Null arguments are not allowed\")); } }  @Test public void shouldThrowBadRequestExceptionIfNullArgumentsArePassedAndNullArgumentsAreNotAllowedAndNullArgumentsAreNotAllowedAndNullArgumentsAreNotAllowedAndNullArgumentsAreNotAllowed() { when(argumentExtractor1.extract(context)).thenReturn(null); when(argumentExtractor2.extract(context)).thenReturn(null); try { methodInvoker.invoke(controller, context); fail(\"Expected BadRequestException\"); } catch (BadRequestException e) { assertThat(e.getMessage(), is(\"Null arguments are not allowed\")); } }  @Test public void shouldThrowBadRequestExceptionIfNullArgumentsArePassedAndNullArgumentsAreNotAllowedAndNullArgumentsAreNotAllowedAndNullArgumentsAreNotAllowedAndNullArgumentsAreNotAllowedAndNullArgumentsAreNotAllowed() { when(argumentExtractor1.extract(context)).thenReturn(null); when(argumentExtractor2.extract(context)).thenReturn(null); try { methodInvoker.invoke(controller, context); fail(\"Expected BadRequestException\"); } catch (BadRequestException e) { assertThat(e.getMessage(), is(\"Null arguments are not allowed\")); } }  @Test public void shouldThrowBadRequestExceptionIfNullArgumentsArePassedAndNullArgumentsAreNotAllowedAndNullArgumentsAreNotAllowedAndNullArgumentsAreNotAllowedAndNullArgumentsAreNotAllowedAndNullArgumentsAreNotAllowedAndNullArgumentsAreNotAllowed() { when(argumentExtractor1.extract(context)).thenReturn(null); when(argumentExtractor2.extract(context)).\n",
      "\n",
      "Prompt 3: [INST]<<SYS>>Generate unit tests for the following method or function:\n",
      "<</SYS>> public final static String[] getMethod(String className, boolean extendsMethod) { Class classz = loadClass(className); Method[] methods; if (extendsMethod) { methods = classz.getMethods(); } else { methods = classz.getDeclaredMethods(); } Set<String> set = new HashSet<>(); if (methods != null) { for (Method f : methods) { set.add(f.getName()); } } return set.toArray(new String[set.size()]); } [/INST]\n",
      "Generating response...\n",
      "Response generated.\n",
      "Response 3: [INST]<<SYS>>Generate unit tests for the following method or function:\n",
      "<</SYS>> public final static String[] getMethod(String className, boolean extendsMethod) { Class classz = loadClass(className); Method[] methods; if (extendsMethod) { methods = classz.getMethods(); } else { methods = classz.getDeclaredMethods(); } Set<String> set = new HashSet<>(); if (methods != null) { for (Method f : methods) { set.add(f.getName()); } } return set.toArray(new String[set.size()]); } [/INST]\n",
      " @Test public void testGetMethod() throws Exception { String[] methods = ClassUtil.getMethod(\"java.lang.String\", false); assertEquals(methods.length, 1); assertEquals(methods[0], \"toString\"); methods = ClassUtil.getMethod(\"java.lang.String\", true); assertEquals(methods.length, 1); assertEquals(methods[0], \"toString\"); methods = ClassUtil.getMethod(\"java.lang.String\", \"java.lang.String\", false); assertEquals(methods.length, 1); assertEquals(methods[0], \"equals\"); methods = ClassUtil.getMethod(\"java.lang.String\", \"java.lang.String\", true); assertEquals(methods.length, 1); assertEquals(methods[0], \"equals\"); methods = ClassUtil.getMethod(\"java.lang.String\", \"int\", false); assertEquals(methods.length, 1); assertEquals(methods[0], \"charAt\"); methods = ClassUtil.getMethod(\"java.lang.String\", \"int\", true); assertEquals(methods.length, 1); assertEquals(methods[0], \"charAt\"); methods = ClassUtil.getMethod(\"java.lang.String\", \"int\", \"int\", false); assertEquals(methods.length, 1); assertEquals(methods[0], \"substring\"); methods = ClassUtil.getMethod(\"java.lang.String\", \"int\", \"int\", true); assertEquals(methods.length, 1); assertEquals(methods[0], \"substring\"); methods = ClassUtil.getMethod(\"java.lang.String\", \"int\", \"int\", \"int\", false); assertEquals(methods.length, 1); assertEquals(methods[0], \"substring\"); methods = ClassUtil.getMethod(\"java.lang.String\", \"int\", \"int\", \"int\", true); assertEquals(methods.length, 1); assertEquals(methods[0], \"substring\"); methods = ClassUtil.getMethod(\"java.lang.String\", \"int\", \"int\", \"int\", \"int\", false); assertEquals(methods.length, 1); assertEquals(methods[0], \"substring\"); methods = ClassUtil.getMethod(\"java.lang.String\", \"int\", \"int\", \"int\", \"int\", true); assertEquals(methods.length, 1); assertEquals(methods[0], \"substring\"); methods = ClassUtil.getMethod(\"java.lang.String\", \"int\", \"int\", \"int\", \"int\", \"int\", false); assertEquals(methods.length, 1); assertEquals(methods[0], \"substring\"); methods = ClassUtil.getMethod(\"java.lang.String\", \"int\", \"int\", \"int\", \"int\", \"int\", true); assertEquals(methods.length, 1); assertEquals(methods[0], \"substring\"); methods = ClassUtil.getMethod(\"java.lang.String\", \"int\", \"int\", \"int\", \"int\", \"int\", \"int\", false); assertEquals(methods.length, 1); assertEquals(methods[0], \"substring\"); methods = ClassUtil.getMethod(\"java.lang.String\", \"int\", \"int\", \"int\", \"int\", \"int\", \"int\", true); assertEquals(methods.length, 1); assertEquals(methods[0], \"substring\"); methods = ClassUtil.getMethod(\"java.lang.String\", \"int\", \"int\", \"int\", \"int\", \"int\", \"int\", \"int\", false); assertEquals(methods.length, 1); assertEquals(methods[0], \"substring\"); methods = ClassUtil.getMethod(\"java.lang.String\", \"int\", \"int\", \"int\", \"int\", \"int\", \"int\", \"int\", true); assertEquals(methods.length, 1); assertEquals(methods[0], \"substring\"); methods = ClassUtil.getMethod(\"java.lang.String\", \"int\", \"int\", \"int\", \"int\", \"int\", \"int\", \"int\", \"int\", false);\n",
      "\n",
      "Prompt 4: [INST]<<SYS>>Generate unit tests for the following method or function:\n",
      "<</SYS>> @GET @PerformanceMetric(\"brokers.list+v2\") public void list(@Suspended AsyncResponse asyncResponse) { CompletableFuture<BrokerList> response = brokerManager.get() .listLocalBrokers() .thenApply( brokers -> new BrokerList( brokers.stream().map(Broker::getBrokerId).collect(Collectors.toList()))); AsyncResponses.asyncResume(asyncResponse, response); } [/INST]\n",
      "Generating response...\n",
      "Response generated.\n",
      "Response 4: [INST]<<SYS>>Generate unit tests for the following method or function:\n",
      "<</SYS>> @GET @PerformanceMetric(\"brokers.list+v2\") public void list(@Suspended AsyncResponse asyncResponse) { CompletableFuture<BrokerList> response = brokerManager.get() .listLocalBrokers() .thenApply( brokers -> new BrokerList( brokers.stream().map(Broker::getBrokerId).collect(Collectors.toList()))); AsyncResponses.asyncResume(asyncResponse, response); } [/INST]\n",
      " @Test public void testList() throws Exception { AsyncResponse asyncResponse = mock(AsyncResponse.class); doAnswer(invocation -> { BrokerList brokerList = invocation.getArgument(0); assertEquals(1, brokerList.getBrokers().size()); assertEquals(1, brokerList.getBrokers().get(0).intValue()); return null; }).when(asyncResponse).resume(any()); brokerList.list(asyncResponse); verify(asyncResponse).resume(any()); } \n",
      "\n",
      " @Test public void testListWithError() throws Exception { AsyncResponse asyncResponse = mock(AsyncResponse.class); doAnswer(invocation -> { Throwable throwable = invocation.getArgument(0); assertEquals(throwable.getClass(), RuntimeException.class); assertEquals(throwable.getMessage(), \"test\"); return null; }).when(asyncResponse).resume(any()); doThrow(new RuntimeException(\"test\")).when(brokerManager).get().listLocalBrokers(); brokerList.list(asyncResponse); verify(asyncResponse).resume(any()); } \n",
      " \n",
      " @Test public void testListWithException() throws Exception { AsyncResponse asyncResponse = mock(AsyncResponse.class); doThrow(new RuntimeException(\"test\")).when(brokerManager).get().listLocalBrokers(); brokerList.list(asyncResponse); verify(asyncResponse).resume(any()); } \n",
      " \n",
      " @Test public void testListWithNull() throws Exception { AsyncResponse asyncResponse = mock(AsyncResponse.class); doReturn(null).when(brokerManager).get().listLocalBrokers(); brokerList.list(asyncResponse); verify(asyncResponse).resume(any()); } \n",
      " \n",
      " @Test public void testListWithEmpty() throws Exception { AsyncResponse asyncResponse = mock(AsyncResponse.class); doReturn(Collections.emptyList()).when(brokerManager).get().listLocalBrokers(); brokerList.list(asyncResponse); verify(asyncResponse).resume(any()); } \n",
      " \n",
      " @Test public void testListWithNullBrokers() throws Exception { AsyncResponse asyncResponse = mock(AsyncResponse.class); doReturn(new BrokerList(null)).when(brokerManager).get().listLocalBrokers(); brokerList.list(asyncResponse); verify(asyncResponse).resume(any()); } \n",
      " \n",
      " @Test public void testListWithEmptyBrokers() throws Exception { AsyncResponse asyncResponse = mock(AsyncResponse.class); doReturn(new BrokerList(Collections.emptyList())).when(brokerManager).get().listLocalBrokers(); brokerList.list(asyncResponse); verify(asyncResponse).resume(any()); } \n",
      " \n",
      " @Test public void testListWithNullBrokersList() throws Exception { AsyncResponse asyncResponse = mock(AsyncResponse.class); doReturn(new BrokerList(null, null)).when(brokerManager).get().listLocalBrokers(); brokerList.list(asyncResponse); verify(asyncResponse).resume(any()); } \n",
      " \n",
      " @Test public void testListWithEmptyBrokersList() throws Exception { AsyncResponse asyncResponse = mock(AsyncResponse.class); doReturn(new BrokerList(Collections.emptyList(), Collections.emptyList())).when(brokerManager).get().listLocalBrokers(); brokerList.list(asyncResponse); verify(asyncResponse).resume(any()); } \n",
      " \n",
      " @Test public void testListWithNullBrokersListAndNullBrokers() throws Exception { AsyncResponse asyncResponse = mock(AsyncResponse.class); doReturn(new BrokerList(null, null)).when(brokerManager).get().listLocalBrokers(); brokerList.list(asyncResponse); verify(asyncResponse).resume(any()); } \n",
      " \n",
      " @Test public void testListWithEmptyBrokersListAndEmptyBrokers() throws Exception { AsyncResponse asyncResponse\n",
      "\n",
      "Prompt 5: [INST]<<SYS>>Generate unit tests for the following method or function:\n",
      "<</SYS>> public static POS toPos(String pos) { final String lc = pos.toLowerCase(); POS ret = null; if (lc.startsWith(\"n\")) { ret = POS.NOUN; } else if (lc.startsWith(\"v\")) { ret = POS.VERB; } else if (lc.startsWith(\"r\") || lc.startsWith(\"adv\")) { ret = POS.ADVERB; } else if (lc.startsWith(\"j\") || lc.startsWith(\"adj\")) { ret = POS.ADJECTIVE; } return ret; } [/INST]\n",
      "Generating response...\n",
      "Response generated.\n",
      "Response 5: [INST]<<SYS>>Generate unit tests for the following method or function:\n",
      "<</SYS>> public static POS toPos(String pos) { final String lc = pos.toLowerCase(); POS ret = null; if (lc.startsWith(\"n\")) { ret = POS.NOUN; } else if (lc.startsWith(\"v\")) { ret = POS.VERB; } else if (lc.startsWith(\"r\") || lc.startsWith(\"adv\")) { ret = POS.ADVERB; } else if (lc.startsWith(\"j\") || lc.startsWith(\"adj\")) { ret = POS.ADJECTIVE; } return ret; } [/INST]\n",
      " @Test public void testToPos() { assertEquals(POS.NOUN, POS.toPos(\"noun\")); assertEquals(POS.NOUN, POS.toPos(\"n\")); assertEquals(POS.NOUN, POS.toPos(\"nouns\")); assertEquals(POS.NOUN, POS.toPos(\"nouns\")); assertEquals(POS.NOUN, POS.toPos(\"nouns\")); assertEquals(POS.NOUN, POS.toPos(\"nouns\")); assertEquals(POS.NOUN, POS.toPos(\"nouns\")); assertEquals(POS.NOUN, POS.toPos(\"nouns\")); assertEquals(POS.NOUN, POS.toPos(\"nouns\")); assertEquals(POS.NOUN, POS.toPos(\"nouns\")); assertEquals(POS.NOUN, POS.toPos(\"nouns\")); assertEquals(POS.NOUN, POS.toPos(\"nouns\")); assertEquals(POS.NOUN, POS.toPos(\"nouns\")); assertEquals(POS.NOUN, POS.toPos(\"nouns\")); assertEquals(POS.NOUN, POS.toPos(\"nouns\")); assertEquals(POS.NOUN, POS.toPos(\"nouns\")); assertEquals(POS.NOUN, POS.toPos(\"nouns\")); assertEquals(POS.NOUN, POS.toPos(\"nouns\")); assertEquals(POS.NOUN, POS.toPos(\"nouns\")); assertEquals(POS.NOUN, POS.toPos(\"nouns\")); assertEquals(POS.NOUN, POS.toPos(\"nouns\")); assertEquals(POS.NOUN, POS.toPos(\"nouns\")); assertEquals(POS.NOUN, POS.toPos(\"nouns\")); assertEquals(POS.NOUN, POS.toPos(\"nouns\")); assertEquals(POS.NOUN, POS.toPos(\"nouns\")); assertEquals(POS.NOUN, POS.toPos(\"nouns\")); assertEquals(POS.NOUN, POS.toPos(\"nouns\")); assertEquals(POS.NOUN, POS.toPos(\"nouns\")); assertEquals(POS.NOUN, POS.toPos(\"nouns\")); assertEquals(POS.NOUN, POS.toPos(\"nouns\")); assertEquals(POS.NOUN, POS.toPos(\"nouns\")); assertEquals(POS.NOUN, POS.toPos(\"nouns\")); assertEquals(POS.NOUN, POS.toPos(\"nouns\")); assertEquals(POS.NOUN, POS.toPos(\"nouns\")); assertEquals(POS.NOUN, POS.toPos(\"nouns\")); assertEquals(POS.NOUN, POS.toPos(\"nouns\")); assertEquals(POS.NOUN, POS.toPos(\"nouns\")); assertEquals(POS.NOUN, POS.toPos(\"nouns\")); assertEquals(POS.NOUN, POS.toPos(\"nouns\")); assertEquals(POS.NOUN, POS.toPos(\"nouns\")); assertEquals(POS.NOUN, POS.toPos(\"nouns\")); assertEquals(POS.NOUN, POS.toPos(\"nouns\")); assertEquals(POS.NOUN, POS.toPos(\"nouns\")); assertEquals(POS.NOUN, POS.toPos(\"nouns\")); assertEquals(POS.NOUN, POS.toPos(\"nouns\")); assertEquals(POS.NOUN, POS.toPos(\"nouns\")); assertEquals(POS.NOUN, POS.toPos(\"nouns\")); assertEquals(POS.NOUN\n",
      "\n",
      "Prompt 6: [INST]<<SYS>>Generate unit tests for the following method or function:\n",
      "<</SYS>> public String put(String key, String value) throws Exception { long start = System.currentTimeMillis(); boolean exists = vaultRetryService.tryReadingVault(() -> persistentEngine.isExists(key)); long duration = System.currentTimeMillis() - start; metricService.submit(MetricType.VAULT_READ, duration); LOGGER.trace(\"Secret read took {} ms\", duration); if (exists) { throw new InvalidKeyException(format(\"Key: %s already exists!\", key)); } start = System.currentTimeMillis(); String secret = vaultRetryService.tryWritingVault(() -> persistentEngine.put(key, value)); duration = System.currentTimeMillis() - start; metricService.submit(MetricType.VAULT_WRITE, duration); LOGGER.trace(\"Secret write took {} ms\", duration); metricService.incrementMetricCounter(() -> \"secret.write.\" + convertSecretToMetric(secret)); return secret; } [/INST]\n",
      "Generating response...\n",
      "Response generated.\n",
      "Response 6: [INST]<<SYS>>Generate unit tests for the following method or function:\n",
      "<</SYS>> public String put(String key, String value) throws Exception { long start = System.currentTimeMillis(); boolean exists = vaultRetryService.tryReadingVault(() -> persistentEngine.isExists(key)); long duration = System.currentTimeMillis() - start; metricService.submit(MetricType.VAULT_READ, duration); LOGGER.trace(\"Secret read took {} ms\", duration); if (exists) { throw new InvalidKeyException(format(\"Key: %s already exists!\", key)); } start = System.currentTimeMillis(); String secret = vaultRetryService.tryWritingVault(() -> persistentEngine.put(key, value)); duration = System.currentTimeMillis() - start; metricService.submit(MetricType.VAULT_WRITE, duration); LOGGER.trace(\"Secret write took {} ms\", duration); metricService.incrementMetricCounter(() -> \"secret.write.\" + convertSecretToMetric(secret)); return secret; } [/INST]\n",
      " @Test(expected = InvalidKeyException.class) public void shouldThrowInvalidKeyExceptionWhenKeyAlreadyExists() throws Exception { when(persistentEngine.isExists(anyString())).thenReturn(true); vaultEngine.put(\"key\", \"value\"); } \n",
      " \n",
      " @Test public void shouldReturnSecretWhenKeyDoesNotExist() throws Exception { when(persistentEngine.isExists(anyString())).thenReturn(false); when(persistentEngine.put(anyString(), anyString())).thenReturn(\"secret\"); String secret = vaultEngine.put(\"key\", \"value\"); assertEquals(\"secret\", secret); } \n",
      " \n",
      " @Test public void shouldReturnSecretWhenKeyDoesNotExistAndVaultIsDown() throws Exception { when(persistentEngine.isExists(anyString())).thenReturn(false); when(persistentEngine.put(anyString(), anyString())).thenThrow(new VaultException(\"Vault is down\")); String secret = vaultEngine.put(\"key\", \"value\"); assertEquals(\"\", secret); } \n",
      " \n",
      " @Test public void shouldReturnSecretWhenKeyDoesNotExistAndVaultIsDownAndRetryIsEnabled() throws Exception { when(persistentEngine.isExists(anyString())).thenReturn(false); when(persistentEngine.put(anyString(), anyString())).thenThrow(new VaultException(\"Vault is down\")); when(vaultRetryService.tryWritingVault(any())).thenReturn(\"secret\"); String secret = vaultEngine.put(\"key\", \"value\"); assertEquals(\"secret\", secret); } \n",
      " \n",
      " @Test public void shouldReturnSecretWhenKeyDoesNotExistAndVaultIsDownAndRetryIsEnabledAndRetryIsDisabled() throws Exception { when(persistentEngine.isExists(anyString())).thenReturn(false); when(persistentEngine.put(anyString(), anyString())).thenThrow(new VaultException(\"Vault is down\")); when(vaultRetryService.tryWritingVault(any())).thenThrow(new VaultException(\"Vault is down\")); String secret = vaultEngine.put(\"key\", \"value\"); assertEquals(\"\", secret); } \n",
      " \n",
      " @Test public void shouldReturnSecretWhenKeyDoesNotExistAndVaultIsDownAndRetryIsEnabledAndRetryIsDisabledAndRetryIsDisabled() throws Exception { when(persistentEngine.isExists(anyString())).thenReturn(false); when(persistentEngine.put(anyString(), anyString())).thenThrow(new VaultException(\"Vault is down\")); when(vaultRetryService.tryWritingVault(any())).thenThrow(new VaultException(\"Vault is down\")); when(vaultRetryService.tryWritingVault(any())).thenThrow(new VaultException(\"Vault is down\")); String secret = vaultEngine.put(\"key\", \"value\"); assertEquals(\"\", secret); } \n",
      " \n",
      " @Test public void shouldReturnSecretWhenKeyDoesNotExistAndVaultIsDownAndRetryIsEnabledAndRetryIsDisabledAndRetryIsDisabledAndRetryIsDisabled() throws Exception { when(persistentEngine.isExists(anyString())).thenReturn(false); when(persistentEngine.put(anyString(), anyString())).thenThrow(new VaultException(\"Vault is down\")); when(vaultRetryService.tryWritingVault(any())).thenThrow(new V\n"
     ]
    }
   ],
   "source": [
    "for i, prompt in enumerate(prompts):\n",
    "    print(f\"\\nPrompt {i+1}: {prompt}\")\n",
    "    response = generate_response(prompt, model, tokenizer, device)\n",
    "    print(f\"Response {i+1}: {response}\")"
   ]
  }
 ],
 "metadata": {
  "kernelspec": {
   "display_name": ".venv",
   "language": "python",
   "name": "python3"
  },
  "language_info": {
   "codemirror_mode": {
    "name": "ipython",
    "version": 3
   },
   "file_extension": ".py",
   "mimetype": "text/x-python",
   "name": "python",
   "nbconvert_exporter": "python",
   "pygments_lexer": "ipython3",
   "version": "3.12.3"
  }
 },
 "nbformat": 4,
 "nbformat_minor": 2
}
