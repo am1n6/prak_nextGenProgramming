{
 "cells": [
  {
   "cell_type": "markdown",
   "metadata": {},
   "source": [
    "# **Step 1:** install required Dependencies"
   ]
  },
  {
   "cell_type": "code",
   "execution_count": 1,
   "metadata": {},
   "outputs": [
    {
     "name": "stdout",
     "output_type": "stream",
     "text": [
      "Note: you may need to restart the kernel to use updated packages.\n"
     ]
    }
   ],
   "source": [
    "pip install -q accelerate==0.34.2 peft==0.6.2 bitsandbytes transformers trl==0.9.6 torch datasets"
   ]
  },
  {
   "cell_type": "code",
   "execution_count": 2,
   "metadata": {},
   "outputs": [
    {
     "name": "stdout",
     "output_type": "stream",
     "text": [
      "Requirement already satisfied: tensorboardX in ./llama2_finetuning2epoch/lib/python3.12/site-packages (2.6.2.2)\n",
      "Requirement already satisfied: numpy in ./llama2_finetuning2epoch/lib/python3.12/site-packages (from tensorboardX) (1.26.4)\n",
      "Requirement already satisfied: packaging in ./llama2_finetuning2epoch/lib/python3.12/site-packages (from tensorboardX) (24.2)\n",
      "Requirement already satisfied: protobuf>=3.20 in ./llama2_finetuning2epoch/lib/python3.12/site-packages (from tensorboardX) (5.29.2)\n",
      "Note: you may need to restart the kernel to use updated packages.\n"
     ]
    }
   ],
   "source": [
    "pip install tensorboardX"
   ]
  },
  {
   "cell_type": "markdown",
   "metadata": {},
   "source": [
    "# **Step 2:** import required packages"
   ]
  },
  {
   "cell_type": "code",
   "execution_count": 1,
   "metadata": {},
   "outputs": [
    {
     "name": "stderr",
     "output_type": "stream",
     "text": [
      "/home/amine-ben-abda/TUM/WS_2425/Praktikum/finetuning_llama27b_2epoch/llama2_finetuning2epoch/lib/python3.12/site-packages/tqdm/auto.py:21: TqdmWarning: IProgress not found. Please update jupyter and ipywidgets. See https://ipywidgets.readthedocs.io/en/stable/user_install.html\n",
      "  from .autonotebook import tqdm as notebook_tqdm\n"
     ]
    }
   ],
   "source": [
    "import torch\n",
    "from transformers import AutoModelForCausalLM, AutoTokenizer, BitsAndBytesConfig\n",
    "import os \n",
    "import json\n",
    "from datasets import load_dataset, Dataset"
   ]
  },
  {
   "cell_type": "markdown",
   "metadata": {},
   "source": [
    "# **Step 3:** define required functions"
   ]
  },
  {
   "cell_type": "code",
   "execution_count": 2,
   "metadata": {},
   "outputs": [],
   "source": [
    "## Load the fine-tuned LLaMA 2 7B model with 4-bit quantization\n",
    "def load_model_and_tokenizer(model_path):\n",
    "    print(\"Loading model and tokenizer with 4-bit quantization...\")\n",
    "    tokenizer = AutoTokenizer.from_pretrained(model_path)\n",
    "    # Configure quantization\n",
    "    quant_config = BitsAndBytesConfig(\n",
    "        load_in_4bit=True,\n",
    "        bnb_4bit_quant_type=\"nf4\",\n",
    "        bnb_4bit_compute_dtype=torch.float16,\n",
    "        bnb_4bit_use_double_quant=True\n",
    "    )\n",
    "    # Load the model\n",
    "    model = AutoModelForCausalLM.from_pretrained(\n",
    "        model_path,\n",
    "        use_safetensors=True,\n",
    "        quantization_config=quant_config,\n",
    "        device_map=\"cuda:0\",\n",
    "    )\n",
    "    device = torch.device(\"cuda\" if torch.cuda.is_available() else \"cpu\")\n",
    "    model = model.to(device)  # Move model to GPU or CPU based on availability\n",
    "    tokenizer.pad_token = tokenizer.eos_token  # Ensure padding token is set\n",
    "    print(f\"Model and tokenizer loaded successfully on {device}.\")\n",
    "    return model, tokenizer, device\n",
    "\n",
    "# Generate a response from the model\n",
    "def generate_response(prompt, model, tokenizer, device, max_length=1024, temperature=0.7, top_p=0.9):\n",
    "    print(\"Generating response...\")\n",
    "    inputs = tokenizer(prompt, return_tensors=\"pt\", padding=True).to(device)  # Move inputs to the same device as the model\n",
    "    outputs = model.generate(\n",
    "        **inputs,\n",
    "        max_length=max_length,\n",
    "        temperature=temperature,\n",
    "        top_p=top_p,\n",
    "        pad_token_id=tokenizer.pad_token_id\n",
    "    )\n",
    "    response = tokenizer.decode(outputs[0], skip_special_tokens=True)\n",
    "    print(\"Response generated.\")\n",
    "    return response"
   ]
  },
  {
   "cell_type": "markdown",
   "metadata": {},
   "source": [
    "# **Step 4:** response generation"
   ]
  },
  {
   "cell_type": "code",
   "execution_count": 3,
   "metadata": {},
   "outputs": [
    {
     "name": "stdout",
     "output_type": "stream",
     "text": [
      "Loading model and tokenizer with 4-bit quantization...\n"
     ]
    },
    {
     "name": "stderr",
     "output_type": "stream",
     "text": [
      "Loading checkpoint shards: 100%|██████████| 2/2 [00:02<00:00,  1.18s/it]\n",
      "You shouldn't move a model that is dispatched using accelerate hooks.\n"
     ]
    },
    {
     "name": "stdout",
     "output_type": "stream",
     "text": [
      "Model and tokenizer loaded successfully on cuda.\n"
     ]
    }
   ],
   "source": [
    "# Specify the path to your fine-tuned model directory\n",
    "model_path = \"./resources/trained_model_adapt_param\"\n",
    "\n",
    "# Load the model and tokenizer\n",
    "model, tokenizer, device = load_model_and_tokenizer(model_path)"
   ]
  },
  {
   "cell_type": "code",
   "execution_count": 4,
   "metadata": {},
   "outputs": [
    {
     "name": "stdout",
     "output_type": "stream",
     "text": [
      "\n",
      "Prompt 1: [INST]<<SYS>>Generate unit tests for the following method or function:\n",
      "<</SYS>> public Set<String> getOutputResourceFields( T meta ) { return null; } [/INST]\n",
      "Generating response...\n",
      "Response generated.\n",
      "Response 1: [INST]<<SYS>>Generate unit tests for the following method or function:\n",
      "<</SYS>> public Set<String> getOutputResourceFields( T meta ) { return null; } [/INST] @Test public void testGetOutputResourceFields() { final Set<String> fields = new Set<String>(); fields.add(\"field1\"); fields.add(\"field2\"); fields.add(\"field3\"); fields.add(\"field4\"); fields.add(\"field5\"); fields.add(\"field6\"); fields.add(\"field7\"); fields.add(\"field8\"); fields.add(\"field9\"); fields.add(\"field10\"); fields.add(\"field11\"); fields.add(\"field12\"); fields.add(\"field13\"); fields.add(\"field14\"); fields.add(\"field15\"); fields.add(\"field16\"); fields.add(\"field17\"); fields.add(\"field18\"); fields.add(\"field19\"); fields.add(\"field20\"); fields.add(\"field21\"); fields.add(\"field22\"); fields.add(\"field23\"); fields.add(\"field24\"); fields.add(\"field25\"); fields.add(\"field26\"); fields.add(\"field27\"); fields.add(\"field28\"); fields.add(\"field29\"); fields.add(\"field30\"); fields.add(\"field31\"); fields.add(\"field32\"); fields.add(\"field33\"); fields.add(\"field34\"); fields.add(\"field35\"); fields.add(\"field36\"); fields.add(\"field37\"); fields.add(\"field38\"); fields.add(\"field39\"); fields.add(\"field40\"); fields.add(\"field41\"); fields.add(\"field42\"); fields.add(\"field43\"); fields.add(\"field44\"); fields.add(\"field45\"); fields.add(\"field46\"); fields.add(\"field47\"); fields.add(\"field48\"); fields.add(\"field49\"); fields.add(\"field50\"); fields.add(\"field51\"); fields.add(\"field52\"); fields.add(\"field53\"); fields.add(\"field54\"); fields.add(\"field55\"); fields.add(\"field56\"); fields.add(\"field57\"); fields.add(\"field58\"); fields.add(\"field59\"); fields.add(\"field60\"); fields.add(\"field61\"); fields.add(\"field62\"); fields.add(\"field63\"); fields.add(\"field64\"); fields.add(\"field65\"); fields.add(\"field66\"); fields.add(\"field67\"); fields.add(\"field68\"); fields.add(\"field69\"); fields.add(\"field70\"); fields.add(\"field71\"); fields.add(\"field72\"); fields.add(\"field73\"); fields.add(\"field74\"); fields.add(\"field75\"); fields.add(\"field76\"); fields.add(\"field77\"); fields.add(\"field78\"); fields.add(\"field79\"); fields.add(\"field80\"); fields.add(\"field81\"); fields.add(\"field82\"); fields.add(\"field83\"); fields.add(\"field84\"); fields.add(\"field85\"); fields.add(\"field86\"); fields.add(\"field87\"); fields.add(\"field88\"); fields.add(\"field89\"); fields.add(\"field90\"); fields.add(\"field91\"); fields.add(\"field92\"); fields.add(\"field93\"); fields.add(\"field94\"); fields.add(\"field95\"); fields.add(\"field96\"); fields.add(\"field97\"); fields.add(\"field98\"); fields.add(\"field99\"); fields.add(\"field100\"); fields.add(\"field101\"); fields.add(\"field102\"); fields.add(\"field103\"); fields.add(\"field104\"); fields.add(\"field105\"); fields.add(\"field106\"); fields.add(\"field107\"); fields.add(\"field108\"); fields.add(\"field109\"); fields.add(\"field110\"); fields.add(\"field111\"); fields.add(\"field112\"); fields.add(\"field113\"); fields.add(\"field114\"); fields.add(\"field115\"); fields.add(\"field116\"); fields.add(\"field117\"); fields.add(\"field118\");\n",
      "\n",
      "Prompt 2: [INST]<<SYS>>Generate unit tests for the following method or function:\n",
      "<</SYS>> @Override public Long queryFrom(MonetaryAmount amount) { Objects.requireNonNull(amount, \"Amount required.\"); return amount.with(downRounding).getNumber().longValueExact(); } [/INST] \n",
      "Generating response...\n",
      "Response generated.\n",
      "Response 2: [INST]<<SYS>>Generate unit tests for the following method or function:\n",
      "<</SYS>> @Override public Long queryFrom(MonetaryAmount amount) { Objects.requireNonNull(amount, \"Amount required.\"); return amount.with(downRounding).getNumber().longValueExact(); } [/INST]  @Test public void testQueryFrom() { assertThat(amount.queryFrom(amount), is(amount)); assertThat(amount.queryFrom(amount.with(downRounding)), is(amount.with(downRounding))); assertThat(amount.queryFrom(amount.with(downRounding)), is(amount.with(downRounding))); assertThat(amount.queryFrom(amount.with(downRounding)), is(amount.with(downRounding))); }  @Test public void testQueryFrom_withDownRounding() { assertThat(amount.queryFrom(amount.with(downRounding)), is(amount.with(downRounding))); }  @Test public void testQueryFrom_withDownRounding() { assertThat(amount.queryFrom(amount.with(downRounding)), is(amount.with(downRounding))); }  @Test public void testQueryFrom_withDownRounding() { assertThat(amount.queryFrom(amount.with(downRounding)), is(amount.with(downRounding))); }  @Test public void testQueryFrom_withDownRounding() { assertThat(amount.queryFrom(amount.with(downRounding)), is(amount.with(downRounding))); }  @Test public void testQueryFrom_withDownRounding() { assertThat(amount.queryFrom(amount.with(downRounding)), is(amount.with(downRounding))); }  @Test public void testQueryFrom_withDownRounding() { assertThat(amount.queryFrom(amount.with(downRounding)), is(amount.with(downRounding))); }  @Test public void testQueryFrom_withDownRounding() { assertThat(amount.queryFrom(amount.with(downRounding)), is(amount.with(downRounding))); }  @Test public void testQueryFrom_withDownRounding() { assertThat(amount.queryFrom(amount.with(downRounding)), is(amount.with(downRounding))); }  @Test public void testQueryFrom_withDownRounding() { assertThat(amount.queryFrom(amount.with(downRounding)), is(amount.with(downRounding))); }  @Test public void testQueryFrom_withDownRounding() { assertThat(amount.queryFrom(amount.with(downRounding)), is(amount.with(downRounding))); }  @Test public void testQueryFrom_withDownRounding() { assertThat(amount.queryFrom(amount.with(downRounding)), is(amount.with(downRounding))); }  @Test public void testQueryFrom_withDownRounding() { assertThat(amount.queryFrom(amount.with(downRounding)), is(amount.with(downRounding))); }  @Test public void testQueryFrom_withDownRounding() { assertThat(amount.queryFrom(amount.with(downRounding)), is(amount.with(downRounding))); }  @Test public void testQueryFrom_withDownRounding() { assertThat(amount.queryFrom(amount.with(downRounding)), is(amount.with(downRounding))); }  @Test public void testQueryFrom_withDownRounding() { assertThat(amount.queryFrom(amount.with(downRounding)), is(amount.with(downRounding))); }  @Test public void testQueryFrom_withDownRounding() { assertThat(amount.queryFrom(amount.with(downRounding)), is(amount.with(downRounding))); }  @Test public void testQueryFrom_withDownRounding() { assertThat(amount.queryFrom(amount.with(downRounding)), is(amount.with(downRounding))); }  @Test public void testQueryFrom_withDownRounding() { assertThat(amount.queryFrom(amount.with(downRounding)), is(amount.with(downRounding))); }  @Test public void testQueryFrom_withDownRounding() { assertThat(amount.queryFrom(amount.with(downRounding)), is(amount.with(downRounding))); }  @Test public void testQueryFrom_withDownRounding() { assertThat(amount.queryFrom(amount.with(downRounding)), is(amount.with(downRounding))); }  @Test public void testQuery\n"
     ]
    }
   ],
   "source": [
    "# Test the model with some prompts\n",
    "prompts = [\n",
    "    \"[INST]<<SYS>>Generate unit tests for the following method or function:\\n<</SYS>> public Set<String> getOutputResourceFields( T meta ) { return null; } [/INST]\",\n",
    "    \"[INST]<<SYS>>Generate unit tests for the following method or function:\\n<</SYS>> @Override public Long queryFrom(MonetaryAmount amount) { Objects.requireNonNull(amount, \\\"Amount required.\\\"); return amount.with(downRounding).getNumber().longValueExact(); } [/INST] \"\n",
    "]\n",
    "\n",
    "for i, prompt in enumerate(prompts):\n",
    "    print(f\"\\nPrompt {i+1}: {prompt}\")\n",
    "    response = generate_response(prompt, model, tokenizer, device)\n",
    "    print(f\"Response {i+1}: {response}\")"
   ]
  },
  {
   "cell_type": "markdown",
   "metadata": {},
   "source": [
    "# **Step 5:** generate test dataset"
   ]
  },
  {
   "cell_type": "code",
   "execution_count": 6,
   "metadata": {},
   "outputs": [],
   "source": [
    "DATASET_NAME = \"jitx/Methods2Test_java_unit_test_code\"\n",
    "\n",
    "training_dataset = load_dataset(DATASET_NAME, split=\"train\")\n",
    "\n",
    "# Set a seed for deterministic sorting\n",
    "seed = 85\n",
    "part = 0.00001\n",
    "\n",
    "test_partion = training_dataset.shuffle(seed=seed).select(range(int(len(training_dataset) * part)))"
   ]
  },
  {
   "cell_type": "code",
   "execution_count": 8,
   "metadata": {},
   "outputs": [
    {
     "name": "stdout",
     "output_type": "stream",
     "text": [
      "Converted dataset Training saved to ./llama2:7b_finetuning_2epoch/dataset/llama_format_dataset_test.json\n",
      "{'text': '<s>[INST]<<SYS>>Generate unit tests for the following method or function:\\n<</SYS>> @Override public String toSqlConstraint(String quoteString, DbProduct dbProduct) { if (quoteString == null) { throw new RuntimeException(\"Quote string cannot be null\"); } return generateRangeConstraint( quoteString + column + quoteString, Stream.of(boundaries).map(b -> b == null ? null : b.toString()).toArray(String[]::new) ); } [/INST] @Test public void testLeftBounded() { IntPartition partition = new IntPartition(COL_RAW, 0L, null); String constraint = partition.toSqlConstraint(QUOTE, dbProduct); assertEquals(COL + \" >= 0\", constraint); } </s>'}\n",
      "{'text': '<s>[INST]<<SYS>>Generate unit tests for the following method or function:\\n<</SYS>> public Object invoke(Object controller, Context context) { Object[] arguments = new Object[argumentExtractors.length]; for (int i = 0; i < argumentExtractors.length; i++) { arguments[i] = argumentExtractors[i].extract(context); } checkNullArgumentsAndThrowBadRequestExceptionIfConfigured(arguments); try { return method.invoke(controller, arguments); } catch (IllegalAccessException | IllegalArgumentException e) { throw new RuntimeException(e); } catch (InvocationTargetException e) { if (e.getCause() instanceof RuntimeException) { throw (RuntimeException) e.getCause(); } else { throw new RuntimeException(e.getCause()); } } } [/INST] @Test public void customArgumentExtractorWithOptionalAndGuiceShouldBeInstantiated() { create(\"guiceArgumentExtractorWithOptional\", new Dep(\"dep\")).invoke(mockController, context); verify(mockController).guiceArgumentExtractorWithOptional(Optional.of(\"dep:bar:java.lang.String\")); } </s>'}\n",
      "{'text': '<s>[INST]<<SYS>>Generate unit tests for the following method or function:\\n<</SYS>> public final static String[] getMethod(String className, boolean extendsMethod) { Class classz = loadClass(className); Method[] methods; if (extendsMethod) { methods = classz.getMethods(); } else { methods = classz.getDeclaredMethods(); } Set<String> set = new HashSet<>(); if (methods != null) { for (Method f : methods) { set.add(f.getName()); } } return set.toArray(new String[set.size()]); } [/INST] @Test public void testMetod() { System.out.println(\"============所有方法================\"); String[] methods = ClassUtil.getMethod(\"com.opslab.util.StringUtil\", false); for (String m : methods) { System.out.println(m); } System.out.println(\"=========自定义的方法和继承来的方法===========\"); methods = ClassUtil.getMethod(\"com.opslab.util.StringUtil\", true); for (String m : methods) { System.out.println(m); } } </s>'}\n",
      "{'text': '<s>[INST]<<SYS>>Generate unit tests for the following method or function:\\n<</SYS>> @GET @PerformanceMetric(\"brokers.list+v2\") public void list(@Suspended AsyncResponse asyncResponse) { CompletableFuture<BrokerList> response = brokerManager.get() .listLocalBrokers() .thenApply( brokers -> new BrokerList( brokers.stream().map(Broker::getBrokerId).collect(Collectors.toList()))); AsyncResponses.asyncResume(asyncResponse, response); } [/INST] @Test public void testList() { expect(brokerManager.listLocalBrokers()) .andReturn(completedFuture(Arrays.asList(BROKER_1, BROKER_2, BROKER_3))); replay(brokerManager); Response response = request(\"/brokers\", Versions.KAFKA_V2_JSON).get(); assertOKResponse(response, Versions.KAFKA_V2_JSON); final BrokerList returnedBrokerIds = TestUtils.tryReadEntityOrLog(response, new GenericType<BrokerList>() { }); assertEquals(Arrays.asList(1, 2, 3), returnedBrokerIds.getBrokers()); } </s>'}\n",
      "{'text': '<s>[INST]<<SYS>>Generate unit tests for the following method or function:\\n<</SYS>> public static POS toPos(String pos) { final String lc = pos.toLowerCase(); POS ret = null; if (lc.startsWith(\"n\")) { ret = POS.NOUN; } else if (lc.startsWith(\"v\")) { ret = POS.VERB; } else if (lc.startsWith(\"r\") || lc.startsWith(\"adv\")) { ret = POS.ADVERB; } else if (lc.startsWith(\"j\") || lc.startsWith(\"adj\")) { ret = POS.ADJECTIVE; } return ret; } [/INST] @Test public void testToPos() { assertEquals(POS.VERB, WordNetUtils.toPos(\"verb\")); assertEquals(POS.VERB, WordNetUtils.toPos(\"vbz\")); assertEquals(POS.NOUN, WordNetUtils.toPos(\"nns\")); assertEquals(POS.ADVERB, WordNetUtils.toPos(\"r\")); assertEquals(POS.ADVERB, WordNetUtils.toPos(\"adv\")); assertEquals(POS.ADJECTIVE, WordNetUtils.toPos(\"j\")); assertEquals(POS.ADJECTIVE, WordNetUtils.toPos(\"adj\")); assertEquals(null, WordNetUtils.toPos(\"somethingelse\")); } </s>'}\n",
      "['[INST]<<SYS>>Generate unit tests for the following method or function:\\n<</SYS>> @Override public String toSqlConstraint(String quoteString, DbProduct dbProduct) { if (quoteString == null) { throw new RuntimeException(\"Quote string cannot be null\"); } return generateRangeConstraint( quoteString + column + quoteString, Stream.of(boundaries).map(b -> b == null ? null : b.toString()).toArray(String[]::new) ); } [/INST]', '[INST]<<SYS>>Generate unit tests for the following method or function:\\n<</SYS>> public Object invoke(Object controller, Context context) { Object[] arguments = new Object[argumentExtractors.length]; for (int i = 0; i < argumentExtractors.length; i++) { arguments[i] = argumentExtractors[i].extract(context); } checkNullArgumentsAndThrowBadRequestExceptionIfConfigured(arguments); try { return method.invoke(controller, arguments); } catch (IllegalAccessException | IllegalArgumentException e) { throw new RuntimeException(e); } catch (InvocationTargetException e) { if (e.getCause() instanceof RuntimeException) { throw (RuntimeException) e.getCause(); } else { throw new RuntimeException(e.getCause()); } } } [/INST]', '[INST]<<SYS>>Generate unit tests for the following method or function:\\n<</SYS>> public final static String[] getMethod(String className, boolean extendsMethod) { Class classz = loadClass(className); Method[] methods; if (extendsMethod) { methods = classz.getMethods(); } else { methods = classz.getDeclaredMethods(); } Set<String> set = new HashSet<>(); if (methods != null) { for (Method f : methods) { set.add(f.getName()); } } return set.toArray(new String[set.size()]); } [/INST]', '[INST]<<SYS>>Generate unit tests for the following method or function:\\n<</SYS>> @GET @PerformanceMetric(\"brokers.list+v2\") public void list(@Suspended AsyncResponse asyncResponse) { CompletableFuture<BrokerList> response = brokerManager.get() .listLocalBrokers() .thenApply( brokers -> new BrokerList( brokers.stream().map(Broker::getBrokerId).collect(Collectors.toList()))); AsyncResponses.asyncResume(asyncResponse, response); } [/INST]', '[INST]<<SYS>>Generate unit tests for the following method or function:\\n<</SYS>> public static POS toPos(String pos) { final String lc = pos.toLowerCase(); POS ret = null; if (lc.startsWith(\"n\")) { ret = POS.NOUN; } else if (lc.startsWith(\"v\")) { ret = POS.VERB; } else if (lc.startsWith(\"r\") || lc.startsWith(\"adv\")) { ret = POS.ADVERB; } else if (lc.startsWith(\"j\") || lc.startsWith(\"adj\")) { ret = POS.ADJECTIVE; } return ret; } [/INST]', '[INST]<<SYS>>Generate unit tests for the following method or function:\\n<</SYS>> public String put(String key, String value) throws Exception { long start = System.currentTimeMillis(); boolean exists = vaultRetryService.tryReadingVault(() -> persistentEngine.isExists(key)); long duration = System.currentTimeMillis() - start; metricService.submit(MetricType.VAULT_READ, duration); LOGGER.trace(\"Secret read took {} ms\", duration); if (exists) { throw new InvalidKeyException(format(\"Key: %s already exists!\", key)); } start = System.currentTimeMillis(); String secret = vaultRetryService.tryWritingVault(() -> persistentEngine.put(key, value)); duration = System.currentTimeMillis() - start; metricService.submit(MetricType.VAULT_WRITE, duration); LOGGER.trace(\"Secret write took {} ms\", duration); metricService.incrementMetricCounter(() -> \"secret.write.\" + convertSecretToMetric(secret)); return secret; } [/INST]']\n"
     ]
    }
   ],
   "source": [
    "INPUT_FIELD = \"src_fm\"\n",
    "OUTPUT_FIELD = \"target\"\n",
    "\n",
    "# Function to convert each example\n",
    "def convert_to_llama_format(focal_method, target_test_case):\n",
    "    # Define the system prompt\n",
    "    system_prompt = \"Generate unit tests for the following method or function:\\n\"\n",
    "\n",
    "    # Format the example into LLaMA format\n",
    "    formatted_example = f\"<s>[INST]<<SYS>>{system_prompt}<</SYS>> {focal_method} [/INST] {target_test_case} </s>\"\n",
    "\n",
    "    return formatted_example\n",
    "\n",
    "# Convert the entire dataset\n",
    "converted_data = [{\"text\": convert_to_llama_format(entry[INPUT_FIELD], entry[OUTPUT_FIELD])} for entry in test_partion]\n",
    "\n",
    "# Save the converted data to a JSON file\n",
    "output_file = './resources/dataset/llama_format_dataset_test.json'\n",
    "os.makedirs(os.path.dirname(output_file), exist_ok=True)\n",
    "with open(output_file, 'w') as f:\n",
    "    json.dump(converted_data, f, indent=4)\n",
    "\n",
    "# Print a few examples to verify the result\n",
    "print(f\"Converted dataset Training saved to {output_file}\")\n",
    "for example in converted_data[:5]:\n",
    "    print(example)\n",
    "\n",
    "# Function to convert each example\n",
    "def convert_to_llama_format_prompt(focal_method):\n",
    "    # Define the system prompt\n",
    "    system_prompt = \"Generate unit tests for the following method or function:\\n\"\n",
    "\n",
    "    # Format the example into LLaMA format\n",
    "    formatted_example = f\"[INST]<<SYS>>{system_prompt}<</SYS>> {focal_method} [/INST]\"\n",
    "\n",
    "    return formatted_example\n",
    "\n",
    "# prompts\n",
    "prompts = [convert_to_llama_format_prompt(entry[INPUT_FIELD]) for entry in test_partion]\n",
    "print(prompts)\n"
   ]
  },
  {
   "cell_type": "markdown",
   "metadata": {},
   "source": [
    "# **Step 6:** Test Model with the Test Dataset"
   ]
  },
  {
   "cell_type": "code",
   "execution_count": 9,
   "metadata": {},
   "outputs": [
    {
     "name": "stdout",
     "output_type": "stream",
     "text": [
      "\n",
      "Prompt 1: [INST]<<SYS>>Generate unit tests for the following method or function:\n",
      "<</SYS>> @Override public String toSqlConstraint(String quoteString, DbProduct dbProduct) { if (quoteString == null) { throw new RuntimeException(\"Quote string cannot be null\"); } return generateRangeConstraint( quoteString + column + quoteString, Stream.of(boundaries).map(b -> b == null ? null : b.toString()).toArray(String[]::new) ); } [/INST]\n",
      "Generating response...\n",
      "Response generated.\n",
      "Response 1: [INST]<<SYS>>Generate unit tests for the following method or function:\n",
      "<</SYS>> @Override public String toSqlConstraint(String quoteString, DbProduct dbProduct) { if (quoteString == null) { throw new RuntimeException(\"Quote string cannot be null\"); } return generateRangeConstraint( quoteString + column + quoteString, Stream.of(boundaries).map(b -> b == null ? null : b.toString()).toArray(String[]::new) ); } [/INST] @Test(expected = RuntimeException.class) public void shouldThrowExceptionWhenBoundariesAreNull() { new RangeConstraint(column, null, null).toSqlConstraint(null, null); }  @Test public void shouldGenerateRangeConstraint() { String sql = \"SELECT * FROM products WHERE price BETWEEN 5000.00 AND 5000.00\"; RangeConstraint constraint = new RangeConstraint(\"price\", new SqlBoundary(5000.00, null), new SqlBoundary(5000.00, null)); assertEquals(sql, constraint.toSqlConstraint(null, null)); }  @Test public void shouldGenerateRangeConstraintWithBoundaries() { String sql = \"SELECT * FROM products WHERE price BETWEEN 5000.00 AND 5000.00\"; RangeConstraint constraint = new RangeConstraint(\"price\", new SqlBoundary(5000.00, 5000.00), new SqlBoundary(5000.00, 5000.00)); assertEquals(sql, constraint.toSqlConstraint(null, null)); }  @Test public void shouldGenerateRangeConstraintWithBoundariesAndQuote() { String sql = \"SELECT * FROM products WHERE price BETWEEN '5000.00' AND '5000.00'\"; RangeConstraint constraint = new RangeConstraint(\"price\", new SqlBoundary(5000.00, 5000.00), new SqlBoundary(5000.00, 5000.00)); assertEquals(sql, constraint.toSqlConstraint(null, null)); }  @Test public void shouldGenerateRangeConstraintWithBoundariesAndQuoteAndColumn() { String sql = \"SELECT * FROM products WHERE price BETWEEN '5000.00' AND '5000.00'\"; RangeConstraint constraint = new RangeConstraint(\"price\", new SqlBoundary(5000.00, 5000.00), new SqlBoundary(5000.00, 5000.00)); assertEquals(sql, constraint.toSqlConstraint(null, null)); }  @Test public void shouldGenerateRangeConstraintWithBoundariesAndQuoteAndColumnAndDbProduct() { String sql = \"SELECT * FROM products WHERE price BETWEEN '5000.00' AND '5000.00'\"; RangeConstraint constraint = new RangeConstraint(\"price\", new SqlBoundary(5000.00, 5000.00), new SqlBoundary(5000.00, 5000.00)); assertEquals(sql, constraint.toSqlConstraint(null, null, new DbProduct(\"products\", \"products\"))); }  @Test public void shouldGenerateRangeConstraintWithBoundariesAndQuoteAndColumnAndDbProductAndBoundary() { String sql = \"SELECT * FROM products WHERE price BETWEEN '5000.00' AND '5000.00'\"; RangeConstraint constraint = new RangeConstraint(\"price\", new SqlBoundary(5000.00, 5000.00), new SqlBoundary(5000.00, 5000.00)); assertEquals(sql, constraint.toSqlConstraint(null, null, new DbProduct(\"products\", \"products\"), new SqlBoundary(5000.00, 5000.00))); }  @Test public void shouldGenerateRangeConstraintWithBoundariesAndQuoteAndColumnAndDbProductAndBoundaryAndSqlBoundary() { String sql = \"SELECT * FROM products WHERE price BETWEEN '5000.00' AND '5000.00'\"; RangeConstraint constraint = new RangeConstraint(\"price\", new SqlBoundary(5000.00, 5000.00), new SqlBoundary(5000.00, \n",
      "\n",
      "Prompt 2: [INST]<<SYS>>Generate unit tests for the following method or function:\n",
      "<</SYS>> public Object invoke(Object controller, Context context) { Object[] arguments = new Object[argumentExtractors.length]; for (int i = 0; i < argumentExtractors.length; i++) { arguments[i] = argumentExtractors[i].extract(context); } checkNullArgumentsAndThrowBadRequestExceptionIfConfigured(arguments); try { return method.invoke(controller, arguments); } catch (IllegalAccessException | IllegalArgumentException e) { throw new RuntimeException(e); } catch (InvocationTargetException e) { if (e.getCause() instanceof RuntimeException) { throw (RuntimeException) e.getCause(); } else { throw new RuntimeException(e.getCause()); } } } [/INST]\n",
      "Generating response...\n",
      "Response generated.\n",
      "Response 2: [INST]<<SYS>>Generate unit tests for the following method or function:\n",
      "<</SYS>> public Object invoke(Object controller, Context context) { Object[] arguments = new Object[argumentExtractors.length]; for (int i = 0; i < argumentExtractors.length; i++) { arguments[i] = argumentExtractors[i].extract(context); } checkNullArgumentsAndThrowBadRequestExceptionIfConfigured(arguments); try { return method.invoke(controller, arguments); } catch (IllegalAccessException | IllegalArgumentException e) { throw new RuntimeException(e); } catch (InvocationTargetException e) { if (e.getCause() instanceof RuntimeException) { throw (RuntimeException) e.getCause(); } else { throw new RuntimeException(e.getCause()); } } } [/INST] @Test public void testInvokeWithEmptyArrayArgument() { given(context.get(eq(ATTRIBUTE_NAME), eq(VALUE))).willReturn(new Object[] {}); given(controller.getClass().getMethod(\"method\", Object[].class)).willReturn(METHOD); given(argumentExtractors[0].extract(context)).willReturn(null); given(argumentExtractors[1].extract(context)).willReturn(null); given(argumentExtractors[2].extract(context)).willReturn(null); given(argumentExtractors[3].extract(context)).willReturn(null); given(argumentExtractors[4].extract(context)).willReturn(null); given(argumentExtractors[5].extract(context)).willReturn(null); given(argumentExtractors[6].extract(context)).willReturn(null); given(argumentExtractors[7].extract(context)).willReturn(null); given(argumentExtractors[8].extract(context)).willReturn(null); given(argumentExtractors[9].extract(context)).willReturn(null); given(argumentExtractors[10].extract(context)).willReturn(null); given(argumentExtractors[11].extract(context)).willReturn(null); given(argumentExtractors[12].extract(context)).willReturn(null); given(argumentExtractors[13].extract(context)).willReturn(null); given(argumentExtractors[14].extract(context)).willReturn(null); given(argumentExtractors[15].extract(context)).willReturn(null); given(argumentExtractors[16].extract(context)).willReturn(null); given(argumentExtractors[17].extract(context)).willReturn(null); given(argumentExtractors[18].extract(context)).willReturn(null); given(argumentExtractors[19].extract(context)).willReturn(null); given(argumentExtractors[20].extract(context)).willReturn(null); given(argumentExtractors[21].extract(context)).willReturn(null); given(argumentExtractors[22].extract(context)).willReturn(null); given(argumentExtractors[23].extract(context)).willReturn(null); given(argumentExtractors[24].extract(context)).willReturn(null); given(argumentExtractors[25].extract(context)).willReturn(null); given(argumentExtractors[26].extract(context)).willReturn(null); given(argumentExtractors[27].extract(context)).willReturn(null); given(argumentExtractors[28].extract(context)).willReturn(null); given(argumentExtractors[29].extract(context)).willReturn(null); given(argumentExtractors[30].extract(context)).willReturn(null); given(argumentExtractors[31].extract(context)).willReturn(null); given(argumentExtractors[32].extract(context)).willReturn(null); given(argumentExtractors[33].extract(context)).willReturn(null); given(argumentExtractors[34].extract(context)).willReturn(null); given(argumentExtractors[35].extract(context)).willReturn(null); given(argumentExtractors[36].extract(context)).willReturn(null); given(argumentExtractors[37].extract(context)).willReturn(null); given(argumentExtractors[38].extract(context)).willReturn(null); given(argumentExtractors[39].extract(context)).willReturn(null); given(argumentExtractors[40].extract(context)).willReturn(null); given(\n",
      "\n",
      "Prompt 3: [INST]<<SYS>>Generate unit tests for the following method or function:\n",
      "<</SYS>> public final static String[] getMethod(String className, boolean extendsMethod) { Class classz = loadClass(className); Method[] methods; if (extendsMethod) { methods = classz.getMethods(); } else { methods = classz.getDeclaredMethods(); } Set<String> set = new HashSet<>(); if (methods != null) { for (Method f : methods) { set.add(f.getName()); } } return set.toArray(new String[set.size()]); } [/INST]\n",
      "Generating response...\n",
      "Response generated.\n",
      "Response 3: [INST]<<SYS>>Generate unit tests for the following method or function:\n",
      "<</SYS>> public final static String[] getMethod(String className, boolean extendsMethod) { Class classz = loadClass(className); Method[] methods; if (extendsMethod) { methods = classz.getMethods(); } else { methods = classz.getDeclaredMethods(); } Set<String> set = new HashSet<>(); if (methods != null) { for (Method f : methods) { set.add(f.getName()); } } return set.toArray(new String[set.size()]); } [/INST] @Test public void testGetMethod() { String[] methods = ClassUtil.getMethod(\"com.example.test.TestClass\", false); Assert.assertEquals(1, methods.length); Assert.assertEquals(\"testMethod\", methods[0]); }  @Test public void testGetMethod_extends() { String[] methods = ClassUtil.getMethod(\"com.example.test.TestClass\", true); Assert.assertEquals(1, methods.length); Assert.assertEquals(\"testMethod\", methods[0]); }  @Test public void testGetMethod_extends_with_error() { String[] methods = ClassUtil.getMethod(\"com.example.test.TestClass\", true); Assert.assertEquals(1, methods.length); Assert.assertEquals(\"testMethod\", methods[0]); }  @Test public void testGetMethod_with_error() { String[] methods = ClassUtil.getMethod(\"com.example.test.TestClass\", false); Assert.assertEquals(1, methods.length); Assert.assertEquals(\"testMethod\", methods[0]); }  @Test public void testGetMethod_with_error_extends() { String[] methods = ClassUtil.getMethod(\"com.example.test.TestClass\", true); Assert.assertEquals(1, methods.length); Assert.assertEquals(\"testMethod\", methods[0]); }  @Test public void testGetMethod_with_error_extends_with_error() { String[] methods = ClassUtil.getMethod(\"com.example.test.TestClass\", true); Assert.assertEquals(1, methods.length); Assert.assertEquals(\"testMethod\", methods[0]); }  @Test public void testGetMethod_with_error_extends_with_error_extends() { String[] methods = ClassUtil.getMethod(\"com.example.test.TestClass\", true); Assert.assertEquals(1, methods.length); Assert.assertEquals(\"testMethod\", methods[0]); }  @Test public void testGetMethod_with_error_extends_with_error_extends_with_error() { String[] methods = ClassUtil.getMethod(\"com.example.test.TestClass\", true); Assert.assertEquals(1, methods.length); Assert.assertEquals(\"testMethod\", methods[0]); }  @Test public void testGetMethod_with_error_extends_with_error_extends_with_error_extends() { String[] methods = ClassUtil.getMethod(\"com.example.test.TestClass\", true); Assert.assertEquals(1, methods.length); Assert.assertEquals(\"testMethod\", methods[0]); }  @Test public void testGetMethod_with_error_extends_with_error_extends_with_error_extends_with_error() { String[] methods = ClassUtil.getMethod(\"com.example.test.TestClass\", true); Assert.assertEquals(1, methods.length); Assert.assertEquals(\"testMethod\", methods[0]); }  @Test public void testGetMethod_with_error_extends_with_error_extends_with_error_extends_with_error_extends_with_error() { String[] methods = ClassUtil.getMethod(\"com.example.test.TestClass\", true); Assert.assertEquals(1, methods.length); Assert.assertEquals(\"testMethod\", methods[0]); }  @Test public void testGetMethod_with_error_extends_with_error_extends_with_error_extends_with_error_extends_with_error_extends() { String[] methods = ClassUtil.getMethod(\"com.example.test.TestClass\", true); Assert.assertEquals(1, methods.length); Assert.assertEquals(\"testMethod\", methods[0]); }  @Test public void testGetMethod_with_error_extends_with_error_extends_with_error_extends_with_error_extends_with_error_extends() { String[] methods = Class\n",
      "\n",
      "Prompt 4: [INST]<<SYS>>Generate unit tests for the following method or function:\n",
      "<</SYS>> @GET @PerformanceMetric(\"brokers.list+v2\") public void list(@Suspended AsyncResponse asyncResponse) { CompletableFuture<BrokerList> response = brokerManager.get() .listLocalBrokers() .thenApply( brokers -> new BrokerList( brokers.stream().map(Broker::getBrokerId).collect(Collectors.toList()))); AsyncResponses.asyncResume(asyncResponse, response); } [/INST]\n",
      "Generating response...\n",
      "Response generated.\n",
      "Response 4: [INST]<<SYS>>Generate unit tests for the following method or function:\n",
      "<</SYS>> @GET @PerformanceMetric(\"brokers.list+v2\") public void list(@Suspended AsyncResponse asyncResponse) { CompletableFuture<BrokerList> response = brokerManager.get() .listLocalBrokers() .thenApply( brokers -> new BrokerList( brokers.stream().map(Broker::getBrokerId).collect(Collectors.toList()))); AsyncResponses.asyncResume(asyncResponse, response); } [/INST] @Test public void testList() { BrokerList brokers = new BrokerList( Arrays.asList(new Broker(\"localhost\", 9092), new Broker(\"localhost\", 9093), new Broker(\"localhost\", 9094))); CompletableFuture<BrokerList> result = CompletableFuture.completedFuture(brokers); when(brokerManager.get()).thenReturn(result); AsyncResponses.asyncResume(asyncResponse, brokers); verify(asyncResponse).resume(result); }  @Test public void testListWithError() { CompletableFuture<BrokerList> error = new CompletableFuture<>(); when(brokerManager.get()).thenReturn(error); AsyncResponses.asyncResume(asyncResponse, brokers); verify(asyncResponse).resume(error); }  @Test public void testListWithErrorWithException() { CompletableFuture<BrokerList> error = new CompletableFuture<>(); doThrow(new RuntimeException()).when(brokerManager.get()).thenReturn(error); AsyncResponses.asyncResume(asyncResponse, brokers); verify(asyncResponse).resume(error); }  @Test public void testListWithErrorWithException_2() { CompletableFuture<BrokerList> error = new CompletableFuture<>(); doThrow(new RuntimeException()).when(brokerManager.get()).thenReturn(error); AsyncResponses.asyncResume(asyncResponse, brokers); verify(asyncResponse).resume(error); }  @Test public void testListWithErrorWithException_3() { CompletableFuture<BrokerList> error = new CompletableFuture<>(); doThrow(new RuntimeException()).when(brokerManager.get()).thenReturn(error); AsyncResponses.asyncResume(asyncResponse, brokers); verify(asyncResponse).resume(error); }  @Test public void testListWithErrorWithException_4() { CompletableFuture<BrokerList> error = new CompletableFuture<>(); doThrow(new RuntimeException()).when(brokerManager.get()).thenReturn(error); AsyncResponses.asyncResume(asyncResponse, brokers); verify(asyncResponse).resume(error); }  @Test public void testListWithErrorWithException_5() { CompletableFuture<BrokerList> error = new CompletableFuture<>(); doThrow(new RuntimeException()).when(brokerManager.get()).thenReturn(error); AsyncResponses.asyncResume(asyncResponse, brokers); verify(asyncResponse).resume(error); }  @Test public void testListWithErrorWithException_6() { CompletableFuture<BrokerList> error = new CompletableFuture<>(); doThrow(new RuntimeException()).when(brokerManager.get()).thenReturn(error); AsyncResponses.asyncResume(asyncResponse, brokers); verify(asyncResponse).resume(error); }  @Test public void testListWithErrorWithException_7() { CompletableFuture<BrokerList> error = new CompletableFuture<>(); doThrow(new RuntimeException()).when(brokerManager.get()).thenReturn(error); AsyncResponses.asyncResume(asyncResponse, brokers); verify(asyncResponse).resume(error); }  @Test public void testListWithErrorWithException_8() { CompletableFuture<BrokerList> error = new CompletableFuture<>(); doThrow(new RuntimeException()).when(brokerManager.get()).thenReturn(error); AsyncResponses.asyncResume(asyncResponse, brokers); verify(asyncResponse).resume(error); }  @Test public void testListWithErrorWithException_9() { CompletableFuture<BrokerList> error = new CompletableFuture<>(); doThrow(new RuntimeException()).when(brokerManager.get()).thenReturn(error); AsyncResponses.asyncResume(asyncResponse, brokers); verify(asyncResponse).\n",
      "\n",
      "Prompt 5: [INST]<<SYS>>Generate unit tests for the following method or function:\n",
      "<</SYS>> public static POS toPos(String pos) { final String lc = pos.toLowerCase(); POS ret = null; if (lc.startsWith(\"n\")) { ret = POS.NOUN; } else if (lc.startsWith(\"v\")) { ret = POS.VERB; } else if (lc.startsWith(\"r\") || lc.startsWith(\"adv\")) { ret = POS.ADVERB; } else if (lc.startsWith(\"j\") || lc.startsWith(\"adj\")) { ret = POS.ADJECTIVE; } return ret; } [/INST]\n",
      "Generating response...\n",
      "Response generated.\n",
      "Response 5: [INST]<<SYS>>Generate unit tests for the following method or function:\n",
      "<</SYS>> public static POS toPos(String pos) { final String lc = pos.toLowerCase(); POS ret = null; if (lc.startsWith(\"n\")) { ret = POS.NOUN; } else if (lc.startsWith(\"v\")) { ret = POS.VERB; } else if (lc.startsWith(\"r\") || lc.startsWith(\"adv\")) { ret = POS.ADVERB; } else if (lc.startsWith(\"j\") || lc.startsWith(\"adj\")) { ret = POS.ADJECTIVE; } return ret; } [/INST] @Test public void toPosTest() { assertEquals(POS.NOUN, PosUtils.toPos(\"noun\")); assertEquals(POS.VERB, PosUtils.toPos(\"verb\")); assertEquals(POS.ADVERB, PosUtils.toPos(\"adverb\")); assertEquals(POS.ADJECTIVE, PosUtils.toPos(\"adjective\")); assertEquals(POS.NOUN, PosUtils.toPos(\"Noun\")); assertEquals(POS.VERB, PosUtils.toPos(\"Verb\")); assertEquals(POS.ADVERB, PosUtils.toPos(\"Adverb\")); assertEquals(POS.ADJECTIVE, PosUtils.toPos(\"Adjective\")); assertEquals(POS.NOUN, PosUtils.toPos(\"Noun\")); assertEquals(POS.VERB, PosUtils.toPos(\"Verb\")); assertEquals(POS.ADVERB, PosUtils.toPos(\"Adverb\")); assertEquals(POS.ADJECTIVE, PosUtils.toPos(\"Adjective\")); assertEquals(POS.NOUN, PosUtils.toPos(\"noun\")); assertEquals(POS.VERB, PosUtils.toPos(\"verb\")); assertEquals(POS.ADVERB, PosUtils.toPos(\"adverb\")); assertEquals(POS.ADJECTIVE, PosUtils.toPos(\"adjective\")); assertEquals(POS.NOUN, PosUtils.toPos(\"Noun\")); assertEquals(POS.VERB, PosUtils.toPos(\"Verb\")); assertEquals(POS.ADVERB, PosUtils.toPos(\"Adverb\")); assertEquals(POS.ADJECTIVE, PosUtils.toPos(\"Adjective\")); assertEquals(POS.NOUN, PosUtils.toPos(\"noun\")); assertEquals(POS.VERB, PosUtils.toPos(\"verb\")); assertEquals(POS.ADVERB, PosUtils.toPos(\"adverb\")); assertEquals(POS.ADJECTIVE, PosUtils.toPos(\"adjective\")); assertEquals(POS.NOUN, PosUtils.toPos(\"Noun\")); assertEquals(POS.VERB, PosUtils.toPos(\"Verb\")); assertEquals(POS.ADVERB, PosUtils.toPos(\"Adverb\")); assertEquals(POS.ADJECTIVE, PosUtils.toPos(\"Adjective\")); assertEquals(POS.NOUN, PosUtils.toPos(\"noun\")); assertEquals(POS.VERB, PosUtils.toPos(\"verb\")); assertEquals(POS.ADVERB, PosUtils.toPos(\"adverb\")); assertEquals(POS.ADJECTIVE, PosUtils.toPos(\"adjective\")); assertEquals(POS.NOUN, PosUtils.toPos(\"Noun\")); assertEquals(POS.VERB, PosUtils.toPos(\"Verb\")); assertEquals(POS.ADVERB, PosUtils.toPos(\"Adverb\")); assertEquals(POS.ADJECTIVE, PosUtils.toPos(\"Adjective\")); assertEquals(POS.NOUN, PosUtils.toPos(\"noun\")); assertEquals(POS.VERB, PosUtils.toPos(\"verb\")); assertEquals(POS.ADVERB, PosUtils.toPos(\"adverb\")); assertEquals(POS.ADJECTIVE, PosUtils.toPos(\"adjective\")); assertEquals(POS.NOUN, PosUtils.toPos(\"Noun\")); assertEquals(POS.VERB, PosUtils.toPos(\"Verb\")); assertEquals(POS.ADVERB, PosUtils.toPos(\"Adverb\")); assertEquals(POS.ADJECTIVE, PosUtils.toPos(\"Adjective\")); assertEquals(POS.NOUN, PosUtils.toPos(\"noun\")); assertEquals(POS.VERB, PosUtils.toPos(\"verb\")); assertEquals(POS.ADVERB, PosUtils.toPos(\"adverb\")); assertEquals(POS.ADJECTIVE, PosUtils.toPos(\"adjective\")); assertEquals(POS.NOUN, PosUtils.toPos(\"Noun\"));\n",
      "\n",
      "Prompt 6: [INST]<<SYS>>Generate unit tests for the following method or function:\n",
      "<</SYS>> public String put(String key, String value) throws Exception { long start = System.currentTimeMillis(); boolean exists = vaultRetryService.tryReadingVault(() -> persistentEngine.isExists(key)); long duration = System.currentTimeMillis() - start; metricService.submit(MetricType.VAULT_READ, duration); LOGGER.trace(\"Secret read took {} ms\", duration); if (exists) { throw new InvalidKeyException(format(\"Key: %s already exists!\", key)); } start = System.currentTimeMillis(); String secret = vaultRetryService.tryWritingVault(() -> persistentEngine.put(key, value)); duration = System.currentTimeMillis() - start; metricService.submit(MetricType.VAULT_WRITE, duration); LOGGER.trace(\"Secret write took {} ms\", duration); metricService.incrementMetricCounter(() -> \"secret.write.\" + convertSecretToMetric(secret)); return secret; } [/INST]\n",
      "Generating response...\n",
      "Response generated.\n",
      "Response 6: [INST]<<SYS>>Generate unit tests for the following method or function:\n",
      "<</SYS>> public String put(String key, String value) throws Exception { long start = System.currentTimeMillis(); boolean exists = vaultRetryService.tryReadingVault(() -> persistentEngine.isExists(key)); long duration = System.currentTimeMillis() - start; metricService.submit(MetricType.VAULT_READ, duration); LOGGER.trace(\"Secret read took {} ms\", duration); if (exists) { throw new InvalidKeyException(format(\"Key: %s already exists!\", key)); } start = System.currentTimeMillis(); String secret = vaultRetryService.tryWritingVault(() -> persistentEngine.put(key, value)); duration = System.currentTimeMillis() - start; metricService.submit(MetricType.VAULT_WRITE, duration); LOGGER.trace(\"Secret write took {} ms\", duration); metricService.incrementMetricCounter(() -> \"secret.write.\" + convertSecretToMetric(secret)); return secret; } [/INST] @Test public void testPut() throws Exception { SecretManager secretManager = new SecretManager(vault, persistentEngine); String secret = secretManager.put(\"key\", \"value\"); assertNotNull(secret); }  @Test public void testPut_KeyExists() throws Exception { SecretManager secretManager = new SecretManager(vault, persistentEngine); String secret = secretManager.put(\"key\", \"value\"); assertNotNull(secret); }  @Test public void testPut_KeyDoesNotExist() throws Exception { SecretManager secretManager = new SecretManager(vault, persistentEngine); String secret = secretManager.put(\"key\", \"value\"); assertNotNull(secret); }  @Test public void testPut_KeyDoesNotExist_VaultRetry() throws Exception { SecretManager secretManager = new SecretManager(vault, persistentEngine, new VaultRetryService(vault, 100)); String secret = secretManager.put(\"key\", \"value\"); assertNotNull(secret); }  @Test public void testPut_KeyDoesNotExist_VaultRetry_VaultException() throws Exception { SecretManager secretManager = new SecretManager(vault, persistentEngine, new VaultExceptionRetryService(vault, 100)); try { secretManager.put(\"key\", \"value\"); } catch (VaultException e) { assertTrue(true); } }  @Test public void testPut_KeyDoesNotExist_VaultRetry_VaultTimeout() throws Exception { SecretManager secretManager = new SecretManager(vault, persistentEngine, new VaultTimeoutRetryService(vault, 100)); try { secretManager.put(\"key\", \"value\"); } catch (VaultException e) { assertTrue(true); } }  @Test public void testPut_KeyDoesNotExist_VaultRetry_VaultResponseException() throws Exception { SecretManager secretManager = new SecretManager(vault, persistentEngine, new VaultExceptionRetryService(vault, 100)); try { secretManager.put(\"key\", \"value\"); } catch (VaultResponseException e) { assertTrue(true); } }  @Test public void testPut_KeyDoesNotExist_VaultRetry_VaultException_Metric() throws Exception { SecretManager secretManager = new SecretManager(vault, persistentEngine, new VaultExceptionRetryService(vault, 100)); String secret = secretManager.put(\"key\", \"value\"); assertNotNull(secret); }  @Test public void testPut_KeyDoesNotExist_VaultRetry_VaultException_Metric_VaultException() throws Exception { SecretManager secretManager = new SecretManager(vault, persistentEngine, new VaultExceptionRetryService(vault, 100)); try { secretManager.put(\"key\", \"value\"); } catch (VaultException e) { assertTrue(true); } }  @Test public void testPut_KeyDoesNotExist_VaultRetry_VaultException_Metric_VaultTimeout() throws Exception { SecretManager secretManager = new SecretManager(vault, persistentEngine, new VaultTimeoutRetryService(vault, 100)); try { secretManager.put(\"key\", \"value\"); } catch (VaultException e) { assertTrue(true); } }  @Test public void testPut_KeyDoesNotExist_VaultRetry_VaultException_Metric_VaultResponseException() throws Exception { SecretManager secretManager = new\n"
     ]
    }
   ],
   "source": [
    "for i, prompt in enumerate(prompts):\n",
    "    print(f\"\\nPrompt {i+1}: {prompt}\")\n",
    "    response = generate_response(prompt, model, tokenizer, device)\n",
    "    print(f\"Response {i+1}: {response}\")"
   ]
  },
  {
   "cell_type": "code",
   "execution_count": 13,
   "metadata": {},
   "outputs": [
    {
     "name": "stdout",
     "output_type": "stream",
     "text": [
      "\n",
      "Prompt 1: <s>[INST]<<SYS>>Generate one unit test for the following method or function:\n",
      "<</SYS>> public Set<String> getOutputResourceFields( T meta ) { return null; } [/INST]</s>\n",
      "Generating response...\n",
      "Response generated.\n",
      "Response 1: [INST]<<SYS>>Generate one unit test for the following method or function:\n",
      "<</SYS>> public Set<String> getOutputResourceFields( T meta ) { return null; } [/INST]t @Test public void testGetOutputResourceFields() throws Exception { Assert.assertNotNull(new FieldSelector().getOutputResourceFields(meta)); }  @Test public void testGetOutputResourceFields2() throws Exception { Assert.assertNull(new FieldSelector().getOutputResourceFields(null)); }  @Test public void testGetOutputResourceFields3() throws Exception { Assert.assertNull(new FieldSelector().getOutputResourceFields(meta)); }  @Test public void testGetOutputResourceFields4() throws Exception { Assert.assertNull(new FieldSelector().getOutputResourceFields(meta)); }  @Test public void testGetOutputResourceFields5() throws Exception { Assert.assertNull(new FieldSelector().getOutputResourceFields(null)); }  @Test public void testGetOutputResourceFields6() throws Exception { Assert.assertNull(new FieldSelector().getOutputResourceFields(null)); }  @Test public void testGetOutputResourceFields7() throws Exception { Assert.assertNull(new FieldSelector().getOutputResourceFields(null)); }  @Test public void testGetOutputResourceFields8() throws Exception { Assert.assertNull(new FieldSelector().getOutputResourceFields(null)); }  @Test public void testGetOutputResourceFields9() throws Exception { Assert.assertNull(new FieldSelector().getOutputResourceFields(null)); }  @Test public void testGetOutputResourceFields10() throws Exception { Assert.assertNull(new FieldSelector().getOutputResourceFields(null)); }  @Test public void testGetOutputResourceFields11() throws Exception { Assert.assertNull(new FieldSelector().getOutputResourceFields(null)); }  @Test public void testGetOutputResourceFields12() throws Exception { Assert.assertNull(new FieldSelector().getOutputResourceFields(null)); }  @Test public void testGetOutputResourceFields13() throws Exception { Assert.assertNull(new FieldSelector().getOutputResourceFields(null)); }  @Test public void testGetOutputResourceFields14() throws Exception { Assert.assertNull(new FieldSelector().getOutputResourceFields(null)); }  @Test public void testGetOutputResourceFields15() throws Exception { Assert.assertNull(new FieldSelector().getOutputResourceFields(null)); }  @Test public void testGetOutputResourceFields16() throws Exception { Assert.assertNull(new FieldSelector().getOutputResourceFields(null)); }  @Test public void testGetOutputResourceFields17() throws Exception { Assert.assertNull(new FieldSelector().getOutputResourceFields(null)); }  @Test public void testGetOutputResourceFields18() throws Exception { Assert.assertNull(new FieldSelector().getOutputResourceFields(null)); }  @Test public void testGetOutputResourceFields19() throws Exception { Assert.assertNull(new FieldSelector().getOutputResourceFields(null)); }  @Test public void testGetOutputResourceFields20() throws Exception { Assert.assertNull(new FieldSelector().getOutputResourceFields(null)); }  @Test public void testGetOutputResourceFields21() throws Exception { Assert.assertNull(new FieldSelector().getOutputResourceFields(null)); }  @Test public void testGetOutputResourceFields22() throws Exception { Assert.assertNull(new FieldSelector().getOutputResourceFields(null)); }  @Test public void testGetOutputResourceFields23() throws Exception { Assert.assertNull(new FieldSelector().getOutputResourceFields(null)); }  @Test public void testGetOutputResourceFields24() throws Exception { Assert.assertNull(new FieldSelector().getOutputResourceFields(null)); }  @Test public void testGetOutputResourceFields25() throws Exception { Assert.assertNull(new FieldSelector().getOutputResourceFields(null)); }  @Test public void testGetOutputResourceFields26() throws Exception { Assert.assertNull(new FieldSelector().getOutputResourceFields(null)); }  @Test public void testGetOutputResourceFields27() throws Exception { Assert.assertNull(new FieldSelector().getOutputResourceFields(null)); }  @Test public void testGetOutputResourceFields28() throws Exception { Assert.assertNull(new FieldSelector().getOutputResourceFields(null)); }  @Test public void testGetOutputResourceFields29() throws Exception { Assert.assertNull(new FieldSelector().getOutputResourceFields(null)); }  @Test public void testGetOutputResourceFields30() throws Exception { Assert.assertNull(new FieldSelector().get\n",
      "\n",
      "Prompt 2: <s>[INST]<<SYS>>Generate one unit test for the following method or function:\n",
      "<</SYS>> @Override public Long queryFrom(MonetaryAmount amount) { Objects.requireNonNull(amount, \"Amount required.\"); return amount.with(downRounding).getNumber().longValueExact(); } [/INST]</s>\n",
      "Generating response...\n",
      "Response generated.\n",
      "Response 2: [INST]<<SYS>>Generate one unit test for the following method or function:\n",
      "<</SYS>> @Override public Long queryFrom(MonetaryAmount amount) { Objects.requireNonNull(amount, \"Amount required.\"); return amount.with(downRounding).getNumber().longValueExact(); } [/INST]t @Test public void testQueryFrom() { MonetaryAmount amount = new MonetaryAmount(1234.56); Long result = amount.queryFrom(); assertEquals(1234, result); }  @Test public void testQueryFromWithDownRounding() { MonetaryAmount amount = new MonetaryAmount(1234.56); Long result = amount.queryFrom(Rounding.DOWN); assertEquals(1234, result); }  @Test public void testQueryFromWithUpRounding() { MonetaryAmount amount = new MonetaryAmount(1234.56); Long result = amount.queryFrom(Rounding.UP); assertEquals(1234.56, result); }  @Test public void testQueryFromWithDownRoundingAndDownRounding() { MonetaryAmount amount = new MonetaryAmount(1234.56); Long result = amount.queryFrom(Rounding.DOWN, Rounding.DOWN); assertEquals(1234, result); }  @Test public void testQueryFromWithDownRoundingAndUpRounding() { MonetaryAmount amount = new MonetaryAmount(1234.56); Long result = amount.queryFrom(Rounding.DOWN, Rounding.UP); assertEquals(1234.56, result); }  @Test public void testQueryFromWithUpRoundingAndDownRounding() { MonetaryAmount amount = new MonetaryAmount(1234.56); Long result = amount.queryFrom(Rounding.UP, Rounding.DOWN); assertEquals(1234.56, result); }  @Test public void testQueryFromWithUpRoundingAndUpRounding() { MonetaryAmount amount = new MonetaryAmount(1234.56); Long result = amount.queryFrom(Rounding.UP, Rounding.UP); assertEquals(1234.56, result); }  @Test public void testQueryFromWithDownRoundingAndUpRoundingAndUpRounding() { MonetaryAmount amount = new MonetaryAmount(1234.56); Long result = amount.queryFrom(Rounding.DOWN, Rounding.UP, Rounding.UP); assertEquals(1234.56, result); }  @Test public void testQueryFromWithDownRoundingAndDownRoundingAndUpRounding() { MonetaryAmount amount = new MonetaryAmount(1234.56); Long result = amount.queryFrom(Rounding.DOWN, Rounding.DOWN, Rounding.UP); assertEquals(1234, result); }  @Test public void testQueryFromWithDownRoundingAndDownRoundingAndDownRounding() { MonetaryAmount amount = new MonetaryAmount(1234.56); Long result = amount.queryFrom(Rounding.DOWN, Rounding.DOWN, Rounding.DOWN); assertEquals(1234, result); }  @Test public void testQueryFromWithDownRoundingAndUpRoundingAndDownRoundingAndUpRounding() { MonetaryAmount amount = new MonetaryAmount(1234.56); Long result = amount.queryFrom(Rounding.DOWN, Rounding.UP, Rounding.DOWN, Rounding.UP); assertEquals(1234.56, result); }  @Test public void testQueryFromWithDownRoundingAndUpRoundingAndDownRoundingAndUpRoundingAndDownRounding() { MonetaryAmount amount = new MonetaryAmount(1234.56); Long result = amount.queryFrom(Rounding.DOWN, Rounding.UP, Rounding.DOWN, Rounding.UP, Rounding.DOWN); assertEquals(1234.56, result); }  @Test public void testQueryFromWithDownRoundingAndUpRoundingAndDownRoundingAndUpRoundingAndDownRoundingAndUpRounding() { MonetaryAmount amount = new MonetaryAmount(1234.56); Long result = amount.queryFrom(Rounding.DOWN, Rounding\n"
     ]
    }
   ],
   "source": [
    "# Test the model with some prompts\n",
    "prompts = [\n",
    "    \"<s>[INST]<<SYS>>Generate one unit test for the following method or function:\\n<</SYS>> public Set<String> getOutputResourceFields( T meta ) { return null; } [/INST]</s>\",\n",
    "    \"<s>[INST]<<SYS>>Generate one unit test for the following method or function:\\n<</SYS>> @Override public Long queryFrom(MonetaryAmount amount) { Objects.requireNonNull(amount, \\\"Amount required.\\\"); return amount.with(downRounding).getNumber().longValueExact(); } [/INST]</s>\"\n",
    "]\n",
    "\n",
    "for i, prompt in enumerate(prompts):\n",
    "    print(f\"\\nPrompt {i+1}: {prompt}\")\n",
    "    response = generate_response(prompt, model, tokenizer, device)\n",
    "    print(f\"Response {i+1}: {response}\")"
   ]
  }
 ],
 "metadata": {
  "kernelspec": {
   "display_name": "llama2_finetuning2epoch",
   "language": "python",
   "name": "python3"
  },
  "language_info": {
   "codemirror_mode": {
    "name": "ipython",
    "version": 3
   },
   "file_extension": ".py",
   "mimetype": "text/x-python",
   "name": "python",
   "nbconvert_exporter": "python",
   "pygments_lexer": "ipython3",
   "version": "3.12.3"
  }
 },
 "nbformat": 4,
 "nbformat_minor": 2
}
