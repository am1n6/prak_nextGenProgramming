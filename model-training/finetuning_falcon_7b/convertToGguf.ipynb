{
 "cells": [
  {
   "cell_type": "markdown",
   "metadata": {},
   "source": [
    "# **Step 1:** install required Dependencies"
   ]
  },
  {
   "cell_type": "code",
   "execution_count": 1,
   "metadata": {},
   "outputs": [
    {
     "name": "stdout",
     "output_type": "stream",
     "text": [
      "\n",
      "\u001b[1m[\u001b[0m\u001b[34;49mnotice\u001b[0m\u001b[1;39;49m]\u001b[0m\u001b[39;49m A new release of pip is available: \u001b[0m\u001b[31;49m24.3.1\u001b[0m\u001b[39;49m -> \u001b[0m\u001b[32;49m25.0\u001b[0m\n",
      "\u001b[1m[\u001b[0m\u001b[34;49mnotice\u001b[0m\u001b[1;39;49m]\u001b[0m\u001b[39;49m To update, run: \u001b[0m\u001b[32;49mpip install --upgrade pip\u001b[0m\n",
      "Note: you may need to restart the kernel to use updated packages.\n"
     ]
    }
   ],
   "source": [
    "pip install -q accelerate==0.34.2 peft==0.6.2 bitsandbytes transformers trl==0.9.6 torch datasets"
   ]
  },
  {
   "cell_type": "markdown",
   "metadata": {},
   "source": [
    "# **Step 2:** Clone repository required for conversion to gguf file"
   ]
  },
  {
   "cell_type": "code",
   "execution_count": 2,
   "metadata": {},
   "outputs": [
    {
     "name": "stdout",
     "output_type": "stream",
     "text": [
      "Cloning into 'llama.cpp'...\n",
      "remote: Enumerating objects: 41356, done.\u001b[K\n",
      "remote: Counting objects: 100% (17/17), done.\u001b[K\n",
      "remote: Compressing objects: 100% (15/15), done.\u001b[K\n",
      "remote: Total 41356 (delta 7), reused 2 (delta 2), pack-reused 41339 (from 2)\u001b[K\n",
      "Receiving objects: 100% (41356/41356), 73.92 MiB | 7.66 MiB/s, done.\n",
      "Resolving deltas: 100% (30095/30095), done.\n"
     ]
    }
   ],
   "source": [
    "!git clone https://github.com/ggerganov/llama.cpp.git"
   ]
  },
  {
   "cell_type": "markdown",
   "metadata": {},
   "source": [
    "# **Step 3:** Merge the Lora Adapters with the base Model"
   ]
  },
  {
   "cell_type": "code",
   "execution_count": null,
   "metadata": {},
   "outputs": [
    {
     "name": "stderr",
     "output_type": "stream",
     "text": [
      "/home/amine-ben-abda/TUM/WS_2425/git-last/sydney/model-training/finetuning_falcon_7b/.venv/lib/python3.12/site-packages/tqdm/auto.py:21: TqdmWarning: IProgress not found. Please update jupyter and ipywidgets. See https://ipywidgets.readthedocs.io/en/stable/user_install.html\n",
      "  from .autonotebook import tqdm as notebook_tqdm\n",
      "The installed version of bitsandbytes was compiled without GPU support. 8-bit optimizers, 8-bit multiplication, and GPU quantization are unavailable.\n",
      "/home/amine-ben-abda/TUM/WS_2425/git-last/sydney/model-training/finetuning_falcon_7b/.venv/lib/python3.12/site-packages/transformers/models/auto/auto_factory.py:471: FutureWarning: The `use_auth_token` argument is deprecated and will be removed in v5 of Transformers. Please use `token` instead.\n",
      "  warnings.warn(\n"
     ]
    },
    {
     "name": "stdout",
     "output_type": "stream",
     "text": [
      "Loading the base model...\n"
     ]
    },
    {
     "name": "stderr",
     "output_type": "stream",
     "text": [
      "Loading checkpoint shards: 100%|██████████| 2/2 [00:12<00:00,  6.42s/it]\n"
     ]
    },
    {
     "name": "stdout",
     "output_type": "stream",
     "text": [
      "Loading the adapter model...\n",
      "Merging adapter weights into the base model...\n",
      "Saving the merged model and tokenizer to ./resources/trained_model...\n",
      "Model and tokenizer have been successfully saved.\n"
     ]
    }
   ],
   "source": [
    "from transformers import AutoModelForCausalLM, AutoTokenizer\n",
    "from peft import PeftModel\n",
    "\n",
    "# Hugging Face token and model details\n",
    "hf_token = \n",
    "MODEL_NAME = \"tiiuae/falcon-7b-instruct\"\n",
    "\n",
    "# Load the tokenizer for the base model\n",
    "tokenizer = AutoTokenizer.from_pretrained(MODEL_NAME)\n",
    "\n",
    "# Load base model with 4-bit quantization configuration\n",
    "print(\"Loading the base model...\")\n",
    "model = AutoModelForCausalLM.from_pretrained(\n",
    "    MODEL_NAME,\n",
    "    use_auth_token=hf_token\n",
    ")\n",
    "\n",
    "# Load the adapter model\n",
    "print(\"Loading the adapter model...\")\n",
    "adapter_model = PeftModel.from_pretrained(\n",
    "    model,\n",
    "    \"./resources/trained_model_adapt_param\",\n",
    "    device_map=\"cuda:0\"\n",
    ")\n",
    "\n",
    "# Convert adapter weights to full precision\n",
    "for name, param in adapter_model.named_parameters():\n",
    "    param.data = param.data.float()  # Convert back to full precision\n",
    "\n",
    "# Merge the adapter weights into the base model\n",
    "print(\"Merging adapter weights into the base model...\")\n",
    "new_model = adapter_model.merge_and_unload()\n",
    "\n",
    "# Save the merged model and tokenizer for later conversion\n",
    "output_dir = \"./resources/trained_model\"\n",
    "print(f\"Saving the merged model and tokenizer to {output_dir}...\")\n",
    "new_model.save_pretrained(output_dir)\n",
    "tokenizer.save_pretrained(output_dir)\n",
    "\n",
    "print(\"Model and tokenizer have been successfully saved.\")\n"
   ]
  },
  {
   "cell_type": "markdown",
   "metadata": {},
   "source": [
    "# **Step 4:** install required Dependencies for Model file Conversion"
   ]
  },
  {
   "cell_type": "code",
   "execution_count": 4,
   "metadata": {},
   "outputs": [
    {
     "name": "stdout",
     "output_type": "stream",
     "text": [
      "Looking in indexes: https://pypi.org/simple, https://download.pytorch.org/whl/cpu, https://download.pytorch.org/whl/cpu, https://download.pytorch.org/whl/cpu, https://download.pytorch.org/whl/cpu\n",
      "Requirement already satisfied: numpy~=1.26.4 in ./.venv/lib/python3.12/site-packages (from -r /home/amine-ben-abda/TUM/WS_2425/Praktikum/finetuning_falcon_7b/llama.cpp/requirements/requirements-convert_legacy_llama.txt (line 1)) (1.26.4)\n",
      "Collecting sentencepiece~=0.2.0 (from -r /home/amine-ben-abda/TUM/WS_2425/Praktikum/finetuning_falcon_7b/llama.cpp/requirements/requirements-convert_legacy_llama.txt (line 2))\n",
      "  Using cached sentencepiece-0.2.0-cp312-cp312-manylinux_2_17_x86_64.manylinux2014_x86_64.whl.metadata (7.7 kB)\n",
      "Requirement already satisfied: transformers<5.0.0,>=4.45.1 in ./.venv/lib/python3.12/site-packages (from -r /home/amine-ben-abda/TUM/WS_2425/Praktikum/finetuning_falcon_7b/llama.cpp/requirements/requirements-convert_legacy_llama.txt (line 3)) (4.48.0)\n",
      "Collecting gguf>=0.1.0 (from -r /home/amine-ben-abda/TUM/WS_2425/Praktikum/finetuning_falcon_7b/llama.cpp/requirements/requirements-convert_legacy_llama.txt (line 4))\n",
      "  Using cached gguf-0.14.0-py3-none-any.whl.metadata (3.7 kB)\n",
      "Collecting protobuf<5.0.0,>=4.21.0 (from -r /home/amine-ben-abda/TUM/WS_2425/Praktikum/finetuning_falcon_7b/llama.cpp/requirements/requirements-convert_legacy_llama.txt (line 5))\n",
      "  Using cached protobuf-4.25.5-cp37-abi3-manylinux2014_x86_64.whl.metadata (541 bytes)\n",
      "Collecting torch~=2.2.1 (from -r /home/amine-ben-abda/TUM/WS_2425/Praktikum/finetuning_falcon_7b/llama.cpp/requirements/requirements-convert_hf_to_gguf.txt (line 3))\n",
      "  Using cached https://download.pytorch.org/whl/cpu/torch-2.2.2%2Bcpu-cp312-cp312-linux_x86_64.whl (186.7 MB)\n",
      "Requirement already satisfied: filelock in ./.venv/lib/python3.12/site-packages (from transformers<5.0.0,>=4.45.1->-r /home/amine-ben-abda/TUM/WS_2425/Praktikum/finetuning_falcon_7b/llama.cpp/requirements/requirements-convert_legacy_llama.txt (line 3)) (3.16.1)\n",
      "Requirement already satisfied: huggingface-hub<1.0,>=0.24.0 in ./.venv/lib/python3.12/site-packages (from transformers<5.0.0,>=4.45.1->-r /home/amine-ben-abda/TUM/WS_2425/Praktikum/finetuning_falcon_7b/llama.cpp/requirements/requirements-convert_legacy_llama.txt (line 3)) (0.27.1)\n",
      "Requirement already satisfied: packaging>=20.0 in ./.venv/lib/python3.12/site-packages (from transformers<5.0.0,>=4.45.1->-r /home/amine-ben-abda/TUM/WS_2425/Praktikum/finetuning_falcon_7b/llama.cpp/requirements/requirements-convert_legacy_llama.txt (line 3)) (24.2)\n",
      "Requirement already satisfied: pyyaml>=5.1 in ./.venv/lib/python3.12/site-packages (from transformers<5.0.0,>=4.45.1->-r /home/amine-ben-abda/TUM/WS_2425/Praktikum/finetuning_falcon_7b/llama.cpp/requirements/requirements-convert_legacy_llama.txt (line 3)) (6.0.2)\n",
      "Requirement already satisfied: regex!=2019.12.17 in ./.venv/lib/python3.12/site-packages (from transformers<5.0.0,>=4.45.1->-r /home/amine-ben-abda/TUM/WS_2425/Praktikum/finetuning_falcon_7b/llama.cpp/requirements/requirements-convert_legacy_llama.txt (line 3)) (2024.11.6)\n",
      "Requirement already satisfied: requests in ./.venv/lib/python3.12/site-packages (from transformers<5.0.0,>=4.45.1->-r /home/amine-ben-abda/TUM/WS_2425/Praktikum/finetuning_falcon_7b/llama.cpp/requirements/requirements-convert_legacy_llama.txt (line 3)) (2.32.3)\n",
      "Requirement already satisfied: tokenizers<0.22,>=0.21 in ./.venv/lib/python3.12/site-packages (from transformers<5.0.0,>=4.45.1->-r /home/amine-ben-abda/TUM/WS_2425/Praktikum/finetuning_falcon_7b/llama.cpp/requirements/requirements-convert_legacy_llama.txt (line 3)) (0.21.0)\n",
      "Requirement already satisfied: safetensors>=0.4.1 in ./.venv/lib/python3.12/site-packages (from transformers<5.0.0,>=4.45.1->-r /home/amine-ben-abda/TUM/WS_2425/Praktikum/finetuning_falcon_7b/llama.cpp/requirements/requirements-convert_legacy_llama.txt (line 3)) (0.5.2)\n",
      "Requirement already satisfied: tqdm>=4.27 in ./.venv/lib/python3.12/site-packages (from transformers<5.0.0,>=4.45.1->-r /home/amine-ben-abda/TUM/WS_2425/Praktikum/finetuning_falcon_7b/llama.cpp/requirements/requirements-convert_legacy_llama.txt (line 3)) (4.67.1)\n",
      "Requirement already satisfied: typing-extensions>=4.8.0 in ./.venv/lib/python3.12/site-packages (from torch~=2.2.1->-r /home/amine-ben-abda/TUM/WS_2425/Praktikum/finetuning_falcon_7b/llama.cpp/requirements/requirements-convert_hf_to_gguf.txt (line 3)) (4.12.2)\n",
      "Requirement already satisfied: sympy in ./.venv/lib/python3.12/site-packages (from torch~=2.2.1->-r /home/amine-ben-abda/TUM/WS_2425/Praktikum/finetuning_falcon_7b/llama.cpp/requirements/requirements-convert_hf_to_gguf.txt (line 3)) (1.13.1)\n",
      "Requirement already satisfied: networkx in ./.venv/lib/python3.12/site-packages (from torch~=2.2.1->-r /home/amine-ben-abda/TUM/WS_2425/Praktikum/finetuning_falcon_7b/llama.cpp/requirements/requirements-convert_hf_to_gguf.txt (line 3)) (3.4.2)\n",
      "Requirement already satisfied: jinja2 in ./.venv/lib/python3.12/site-packages (from torch~=2.2.1->-r /home/amine-ben-abda/TUM/WS_2425/Praktikum/finetuning_falcon_7b/llama.cpp/requirements/requirements-convert_hf_to_gguf.txt (line 3)) (3.1.5)\n",
      "Requirement already satisfied: fsspec in ./.venv/lib/python3.12/site-packages (from torch~=2.2.1->-r /home/amine-ben-abda/TUM/WS_2425/Praktikum/finetuning_falcon_7b/llama.cpp/requirements/requirements-convert_hf_to_gguf.txt (line 3)) (2024.9.0)\n",
      "Requirement already satisfied: MarkupSafe>=2.0 in ./.venv/lib/python3.12/site-packages (from jinja2->torch~=2.2.1->-r /home/amine-ben-abda/TUM/WS_2425/Praktikum/finetuning_falcon_7b/llama.cpp/requirements/requirements-convert_hf_to_gguf.txt (line 3)) (3.0.2)\n",
      "Requirement already satisfied: charset-normalizer<4,>=2 in ./.venv/lib/python3.12/site-packages (from requests->transformers<5.0.0,>=4.45.1->-r /home/amine-ben-abda/TUM/WS_2425/Praktikum/finetuning_falcon_7b/llama.cpp/requirements/requirements-convert_legacy_llama.txt (line 3)) (3.4.1)\n",
      "Requirement already satisfied: idna<4,>=2.5 in ./.venv/lib/python3.12/site-packages (from requests->transformers<5.0.0,>=4.45.1->-r /home/amine-ben-abda/TUM/WS_2425/Praktikum/finetuning_falcon_7b/llama.cpp/requirements/requirements-convert_legacy_llama.txt (line 3)) (3.10)\n",
      "Requirement already satisfied: urllib3<3,>=1.21.1 in ./.venv/lib/python3.12/site-packages (from requests->transformers<5.0.0,>=4.45.1->-r /home/amine-ben-abda/TUM/WS_2425/Praktikum/finetuning_falcon_7b/llama.cpp/requirements/requirements-convert_legacy_llama.txt (line 3)) (2.3.0)\n",
      "Requirement already satisfied: certifi>=2017.4.17 in ./.venv/lib/python3.12/site-packages (from requests->transformers<5.0.0,>=4.45.1->-r /home/amine-ben-abda/TUM/WS_2425/Praktikum/finetuning_falcon_7b/llama.cpp/requirements/requirements-convert_legacy_llama.txt (line 3)) (2024.12.14)\n",
      "Requirement already satisfied: mpmath<1.4,>=1.1.0 in ./.venv/lib/python3.12/site-packages (from sympy->torch~=2.2.1->-r /home/amine-ben-abda/TUM/WS_2425/Praktikum/finetuning_falcon_7b/llama.cpp/requirements/requirements-convert_hf_to_gguf.txt (line 3)) (1.3.0)\n",
      "Using cached sentencepiece-0.2.0-cp312-cp312-manylinux_2_17_x86_64.manylinux2014_x86_64.whl (1.3 MB)\n",
      "Using cached gguf-0.14.0-py3-none-any.whl (76 kB)\n",
      "Using cached protobuf-4.25.5-cp37-abi3-manylinux2014_x86_64.whl (294 kB)\n",
      "Installing collected packages: sentencepiece, protobuf, gguf, torch\n",
      "  Attempting uninstall: protobuf\n",
      "    Found existing installation: protobuf 5.29.3\n",
      "    Uninstalling protobuf-5.29.3:\n",
      "      Successfully uninstalled protobuf-5.29.3\n",
      "  Attempting uninstall: torch\n",
      "    Found existing installation: torch 2.5.1\n",
      "    Uninstalling torch-2.5.1:\n",
      "      Successfully uninstalled torch-2.5.1\n",
      "Successfully installed gguf-0.14.0 protobuf-4.25.5 sentencepiece-0.2.0 torch-2.2.2+cpu\n"
     ]
    }
   ],
   "source": [
    "# Install dependencies\n",
    "!pip install -r llama.cpp/requirements.txt"
   ]
  },
  {
   "cell_type": "markdown",
   "metadata": {},
   "source": [
    "# **Step 5:** Convert Model to GGUF Format"
   ]
  },
  {
   "cell_type": "code",
   "execution_count": 7,
   "metadata": {},
   "outputs": [
    {
     "name": "stdout",
     "output_type": "stream",
     "text": [
      "INFO:hf-to-gguf:Loading model: trained_model\n",
      "INFO:gguf.gguf_writer:gguf: This GGUF file is for Little Endian only\n",
      "INFO:hf-to-gguf:Exporting model...\n",
      "INFO:hf-to-gguf:gguf: loading model weight map from 'model.safetensors.index.json'\n",
      "INFO:hf-to-gguf:gguf: loading model part 'model-00001-of-00006.safetensors'\n",
      "INFO:hf-to-gguf:blk.0.attn_norm.bias,      torch.float32 --> F32, shape = {4544}\n",
      "INFO:hf-to-gguf:blk.0.attn_norm.weight,    torch.float32 --> F32, shape = {4544}\n",
      "INFO:hf-to-gguf:blk.0.ffn_down.weight,     torch.float32 --> Q8_0, shape = {18176, 4544}\n",
      "INFO:hf-to-gguf:blk.0.ffn_up.weight,       torch.float32 --> Q8_0, shape = {4544, 18176}\n",
      "INFO:hf-to-gguf:blk.0.attn_output.weight,  torch.float32 --> Q8_0, shape = {4544, 4544}\n",
      "Traceback (most recent call last):\n",
      "  File \"/home/amine-ben-abda/TUM/WS_2425/Praktikum/finetuning_falcon_7b/llama.cpp/convert_hf_to_gguf.py\", line 5077, in <module>\n",
      "    main()\n",
      "  File \"/home/amine-ben-abda/TUM/WS_2425/Praktikum/finetuning_falcon_7b/llama.cpp/convert_hf_to_gguf.py\", line 5071, in main\n",
      "    model_instance.write()\n",
      "  File \"/home/amine-ben-abda/TUM/WS_2425/Praktikum/finetuning_falcon_7b/llama.cpp/convert_hf_to_gguf.py\", line 439, in write\n",
      "    self.prepare_tensors()\n",
      "  File \"/home/amine-ben-abda/TUM/WS_2425/Praktikum/finetuning_falcon_7b/llama.cpp/convert_hf_to_gguf.py\", line 298, in prepare_tensors\n",
      "    for new_name, data_torch in (self.modify_tensors(data_torch, name, bid)):\n",
      "                                 ^^^^^^^^^^^^^^^^^^^^^^^^^^^^^^^^^^^^^^^^^^\n",
      "  File \"/home/amine-ben-abda/TUM/WS_2425/Praktikum/finetuning_falcon_7b/llama.cpp/convert_hf_to_gguf.py\", line 1380, in modify_tensors\n",
      "    qkv = data_torch.view(n_head_kv, n_head // n_head_kv + 2, head_dim, head_dim * n_head)\n",
      "          ^^^^^^^^^^^^^^^^^^^^^^^^^^^^^^^^^^^^^^^^^^^^^^^^^^^^^^^^^^^^^^^^^^^^^^^^^^^^^^^^\n",
      "  File \"/home/amine-ben-abda/TUM/WS_2425/Praktikum/finetuning_falcon_7b/llama.cpp/gguf-py/gguf/lazy.py\", line 121, in wrapped_fn\n",
      "    res = fn(*meta_args, **kwargs)\n",
      "          ^^^^^^^^^^^^^^^^^^^^^^^^\n",
      "  File \"/home/amine-ben-abda/TUM/WS_2425/Praktikum/finetuning_falcon_7b/llama.cpp/gguf-py/gguf/lazy.py\", line 21, in <lambda>\n",
      "    (lambda s, *args, **kwargs: getattr(s, name)(*args, **kwargs)),\n",
      "                                ^^^^^^^^^^^^^^^^^^^^^^^^^^^^^^^^^\n",
      "RuntimeError: shape '[71, 3, 64, 4544]' is invalid for input of size 21229568\n"
     ]
    }
   ],
   "source": [
    "# Convert Hugging Face model to GGUF format\n",
    "!python llama.cpp/convert_hf_to_gguf.py ./resources/trained_model --outfile ./resources/ggufModelFormat/unitTUMfalconV1.gguf --outtype q8_0"
   ]
  }
 ],
 "metadata": {
  "kernelspec": {
   "display_name": ".venv",
   "language": "python",
   "name": "python3"
  },
  "language_info": {
   "codemirror_mode": {
    "name": "ipython",
    "version": 3
   },
   "file_extension": ".py",
   "mimetype": "text/x-python",
   "name": "python",
   "nbconvert_exporter": "python",
   "pygments_lexer": "ipython3",
   "version": "3.12.3"
  }
 },
 "nbformat": 4,
 "nbformat_minor": 2
}
